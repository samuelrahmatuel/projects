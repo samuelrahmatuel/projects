{
 "cells": [
  {
   "cell_type": "markdown",
   "id": "642bc17e",
   "metadata": {},
   "source": [
    "<img src=\"hero.png\" width=\"1000\" height=\"500\">\n",
    "<h1 style='text-align: center;'>OLIST Brazillian E-Commerce EDA</h1>\n",
    "<h5 style='text-align: right;'>researched by : Rahmatuel Samuel</h5>\n",
    "\n",
    "## Project Description\n",
    "\n",
    "1. This dataset is generously provided by Olist, the largest department store on the Brazilian market. Olist connects small businesses from all over Brazil to the channel without any hassle and with one contract.\n",
    "\n",
    "2. E-commerce is a business model that allows companies or individuals to buy or sell goods via the internet. E-commerce customers have unimaginable variety personalities, a potential market is usually not characterized singularly nor easily. \n",
    "\n",
    "3. It becomes important to know your target customer base in order to make sure your communications are both effective (attractive, action-promoting) and appropriate (non-offensive, timely, and relevant). \n",
    "\n",
    "4. The dataset has information of 100k orders from 2016 to 2018 made in several markets in Brazil. This is real commercial data, it has been anonymized.\n",
    "\n",
    "5. The merchant can sell their products through the Olist Store and have them shipped directly to the customer using the Olist logistics partner. \n",
    "\n",
    "6. Once the customer purchases the product from the Olist Store, the seller will be notified to fulfill that order. \n",
    "\n",
    "7. Once the customer receives the product, or the estimated delivery date is due, the customer gets a satisfaction survey via email where he or she can provide a note for the purchase experience and some comments."
   ]
  },
  {
   "cell_type": "markdown",
   "id": "7a7a301b",
   "metadata": {},
   "source": [
    "## Data Understanding \n",
    "\n",
    "| Columns Name | Data Type, Length | Description | Present |\n",
    "| -- | -- | -- | -- |\n",
    "| customer_id | object | Key to the orders dataset. Each order has a unique customer_id.| Unique customer id to merge with orders dataset |\n",
    "| customer_unique_id | object | unique identifier of a customer.| represent customer unique id\n",
    "| customer_zip_code_prefix | int64 | first five digits of customer zip code| represent first five zip code of geolocation customer\n",
    "| customer_city  |  object |customer city name| a customer city name in brazzil\n",
    "| customer_state |  object |customer state| represent 2 letters of name customer sate\n",
    "| geolocation_zip_code_prefix | int64 |first 5 digits of zip code| represent first five zip code of geolocation city and state\n",
    "| geolocation_lat | float64 |Geolocation latitude| represent of the angular distance of a place north or south of the earth's equator, or of a celestial object north or south of the celestial equator, expressed in degrees.\n",
    "| geolocation_lng | float64 |Geolocation longitude| the angular distance of a place east or west of the meridian at Greenwich, England, or west of the standard meridian of a celestial object, expressed in degrees.\n",
    "| geolocation_city |  object |city name| represent of geolocation city name\n",
    "| geolocation_state |  object |state| represent 2 letter of state where the geolocation is \n",
    "| order_id  |  object |order unique identifier| An unique id where every transaction have order id\n",
    "| order_item_id | int64 |sequential number identifying number of items included in the same order.| A serial number for an unique identifier assigned  sequentially to an item, to uniquely identify it\n",
    "| product_id  |  object |product unique identifier| A serial number for a unique identifier assigned  to an product, to uniquely identify it\n",
    "| seller_id | object  |seller unique identifier| A serial number for a unique identifier assigned  to an seller, to uniquely identify it\n",
    "| shipping_limit_date| object  |Shows the seller shipping limit date for handling the order over to the logistic partner.| the estimated delivery date is when a customer can reasonably expect the order to arrive.\n",
    "| price | float64 |item price| the retail price of each item of consumer goods.\n",
    "| freight_value | float64 |item freight value item (if an order has more than one item the freight value is splitted between)|  a price at which a certain cargo is delivered from one point to another\n",
    "| payment_sequential | int64 |a customer may pay an order with more than one payment method. If he does so, a sequence will be| a sequential pay structure, principal payments are typically allocated to the securities in order of seniority.\n",
    "| payment_type |  object |method of payment chosen by the customer.| A various of type payment for customer to pay a transaction\n",
    "| payment_installments | int64 |number of installments chosen by the customer.| Instalment payments refer to a customer paying a bill in small portions throughout a fixed period of time\n",
    "| payment_value  | float64 | transaction value.| A total of amount money customer need to pay to succesfull transaction"
   ]
  },
  {
   "cell_type": "markdown",
   "id": "b127fbdb",
   "metadata": {},
   "source": [
    "## Data Schemes\n",
    "<img src=\"data_schemes.png\" width=\"1000\" height=\"500\">"
   ]
  },
  {
   "cell_type": "markdown",
   "id": "cd424be6",
   "metadata": {},
   "source": [
    "## Data Relational Information"
   ]
  },
  {
   "cell_type": "markdown",
   "id": "7aa08ae8",
   "metadata": {},
   "source": [
    "## EDA"
   ]
  },
  {
   "cell_type": "code",
   "execution_count": 1,
   "id": "a7a8c484",
   "metadata": {},
   "outputs": [],
   "source": [
    "import pandas as pd"
   ]
  },
  {
   "cell_type": "code",
   "execution_count": 2,
   "id": "26402eaa",
   "metadata": {},
   "outputs": [],
   "source": [
    "lst = [\n",
    "    'olist_customers_dataset.csv',\n",
    "    'olist_geolocation_dataset.csv',\n",
    "    'olist_order_items_dataset.csv',\n",
    "    'olist_order_payments_dataset.csv',\n",
    "    'olist_order_reviews_dataset.csv',\n",
    "    'olist_orders_dataset.csv',\n",
    "    'olist_products_dataset.csv',\n",
    "    'olist_sellers_dataset.csv',\n",
    "    'product_category_name_translation.csv'\n",
    "]"
   ]
  },
  {
   "cell_type": "code",
   "execution_count": 3,
   "id": "fefb4991",
   "metadata": {},
   "outputs": [],
   "source": [
    "for i in lst:\n",
    "    df = pd.read_csv(i)\n",
    "#     df.info()"
   ]
  },
  {
   "cell_type": "markdown",
   "id": "a21bbc88",
   "metadata": {},
   "source": [
    "<img src=\"Data Relation.png\" width=\"1000\" height=\"500\">"
   ]
  },
  {
   "cell_type": "markdown",
   "id": "ddac567d",
   "metadata": {},
   "source": [
    "# Data Loading"
   ]
  },
  {
   "cell_type": "markdown",
   "id": "881b0026",
   "metadata": {},
   "source": [
    "## 1. Customers Data"
   ]
  },
  {
   "cell_type": "code",
   "execution_count": 4,
   "id": "0ba75e29",
   "metadata": {},
   "outputs": [],
   "source": [
    "customers = pd.read_csv(\"olist_customers_dataset.csv\")"
   ]
  },
  {
   "cell_type": "code",
   "execution_count": 5,
   "id": "b3325df5",
   "metadata": {},
   "outputs": [
    {
     "data": {
      "text/html": [
       "<div>\n",
       "<style scoped>\n",
       "    .dataframe tbody tr th:only-of-type {\n",
       "        vertical-align: middle;\n",
       "    }\n",
       "\n",
       "    .dataframe tbody tr th {\n",
       "        vertical-align: top;\n",
       "    }\n",
       "\n",
       "    .dataframe thead th {\n",
       "        text-align: right;\n",
       "    }\n",
       "</style>\n",
       "<table border=\"1\" class=\"dataframe\">\n",
       "  <thead>\n",
       "    <tr style=\"text-align: right;\">\n",
       "      <th></th>\n",
       "      <th>customer_id</th>\n",
       "      <th>customer_unique_id</th>\n",
       "      <th>customer_zip_code_prefix</th>\n",
       "      <th>customer_city</th>\n",
       "      <th>customer_state</th>\n",
       "    </tr>\n",
       "  </thead>\n",
       "  <tbody>\n",
       "    <tr>\n",
       "      <th>0</th>\n",
       "      <td>06b8999e2fba1a1fbc88172c00ba8bc7</td>\n",
       "      <td>861eff4711a542e4b93843c6dd7febb0</td>\n",
       "      <td>14409</td>\n",
       "      <td>franca</td>\n",
       "      <td>SP</td>\n",
       "    </tr>\n",
       "  </tbody>\n",
       "</table>\n",
       "</div>"
      ],
      "text/plain": [
       "                        customer_id                customer_unique_id  \\\n",
       "0  06b8999e2fba1a1fbc88172c00ba8bc7  861eff4711a542e4b93843c6dd7febb0   \n",
       "\n",
       "   customer_zip_code_prefix customer_city customer_state  \n",
       "0                     14409        franca             SP  "
      ]
     },
     "execution_count": 5,
     "metadata": {},
     "output_type": "execute_result"
    }
   ],
   "source": [
    "customers.head(1)"
   ]
  },
  {
   "cell_type": "markdown",
   "id": "049d58ed",
   "metadata": {},
   "source": [
    "## 2. Sellers Data"
   ]
  },
  {
   "cell_type": "code",
   "execution_count": 6,
   "id": "66bb01e3",
   "metadata": {},
   "outputs": [],
   "source": [
    "sellers = pd.read_csv(\"olist_sellers_dataset.csv\")"
   ]
  },
  {
   "cell_type": "code",
   "execution_count": 7,
   "id": "b67775f2",
   "metadata": {},
   "outputs": [
    {
     "data": {
      "text/html": [
       "<div>\n",
       "<style scoped>\n",
       "    .dataframe tbody tr th:only-of-type {\n",
       "        vertical-align: middle;\n",
       "    }\n",
       "\n",
       "    .dataframe tbody tr th {\n",
       "        vertical-align: top;\n",
       "    }\n",
       "\n",
       "    .dataframe thead th {\n",
       "        text-align: right;\n",
       "    }\n",
       "</style>\n",
       "<table border=\"1\" class=\"dataframe\">\n",
       "  <thead>\n",
       "    <tr style=\"text-align: right;\">\n",
       "      <th></th>\n",
       "      <th>seller_id</th>\n",
       "      <th>seller_zip_code_prefix</th>\n",
       "      <th>seller_city</th>\n",
       "      <th>seller_state</th>\n",
       "    </tr>\n",
       "  </thead>\n",
       "  <tbody>\n",
       "    <tr>\n",
       "      <th>0</th>\n",
       "      <td>3442f8959a84dea7ee197c632cb2df15</td>\n",
       "      <td>13023</td>\n",
       "      <td>campinas</td>\n",
       "      <td>SP</td>\n",
       "    </tr>\n",
       "  </tbody>\n",
       "</table>\n",
       "</div>"
      ],
      "text/plain": [
       "                          seller_id  seller_zip_code_prefix seller_city  \\\n",
       "0  3442f8959a84dea7ee197c632cb2df15                   13023    campinas   \n",
       "\n",
       "  seller_state  \n",
       "0           SP  "
      ]
     },
     "execution_count": 7,
     "metadata": {},
     "output_type": "execute_result"
    }
   ],
   "source": [
    "sellers.head(1)"
   ]
  },
  {
   "cell_type": "markdown",
   "id": "c0e75cfc",
   "metadata": {},
   "source": [
    "## 3. Products"
   ]
  },
  {
   "cell_type": "code",
   "execution_count": 8,
   "id": "bc4bbec6",
   "metadata": {},
   "outputs": [],
   "source": [
    "products = pd.read_csv(\"olist_products_dataset.csv\")"
   ]
  },
  {
   "cell_type": "code",
   "execution_count": 9,
   "id": "50565d45",
   "metadata": {},
   "outputs": [
    {
     "data": {
      "text/html": [
       "<div>\n",
       "<style scoped>\n",
       "    .dataframe tbody tr th:only-of-type {\n",
       "        vertical-align: middle;\n",
       "    }\n",
       "\n",
       "    .dataframe tbody tr th {\n",
       "        vertical-align: top;\n",
       "    }\n",
       "\n",
       "    .dataframe thead th {\n",
       "        text-align: right;\n",
       "    }\n",
       "</style>\n",
       "<table border=\"1\" class=\"dataframe\">\n",
       "  <thead>\n",
       "    <tr style=\"text-align: right;\">\n",
       "      <th></th>\n",
       "      <th>product_id</th>\n",
       "      <th>product_category_name</th>\n",
       "      <th>product_name_lenght</th>\n",
       "      <th>product_description_lenght</th>\n",
       "      <th>product_photos_qty</th>\n",
       "      <th>product_weight_g</th>\n",
       "      <th>product_length_cm</th>\n",
       "      <th>product_height_cm</th>\n",
       "      <th>product_width_cm</th>\n",
       "    </tr>\n",
       "  </thead>\n",
       "  <tbody>\n",
       "    <tr>\n",
       "      <th>0</th>\n",
       "      <td>1e9e8ef04dbcff4541ed26657ea517e5</td>\n",
       "      <td>perfumaria</td>\n",
       "      <td>40.0</td>\n",
       "      <td>287.0</td>\n",
       "      <td>1.0</td>\n",
       "      <td>225.0</td>\n",
       "      <td>16.0</td>\n",
       "      <td>10.0</td>\n",
       "      <td>14.0</td>\n",
       "    </tr>\n",
       "  </tbody>\n",
       "</table>\n",
       "</div>"
      ],
      "text/plain": [
       "                         product_id product_category_name  \\\n",
       "0  1e9e8ef04dbcff4541ed26657ea517e5            perfumaria   \n",
       "\n",
       "   product_name_lenght  product_description_lenght  product_photos_qty  \\\n",
       "0                 40.0                       287.0                 1.0   \n",
       "\n",
       "   product_weight_g  product_length_cm  product_height_cm  product_width_cm  \n",
       "0             225.0               16.0               10.0              14.0  "
      ]
     },
     "execution_count": 9,
     "metadata": {},
     "output_type": "execute_result"
    }
   ],
   "source": [
    "products.head(1)"
   ]
  },
  {
   "cell_type": "markdown",
   "id": "899d9387",
   "metadata": {},
   "source": [
    "#### Remove Unwanted Columns in Products"
   ]
  },
  {
   "cell_type": "code",
   "execution_count": 10,
   "id": "1e9c0955",
   "metadata": {},
   "outputs": [],
   "source": [
    "products = products.drop(\n",
    "    columns=['product_name_lenght',\n",
    "             'product_description_lenght',\n",
    "             'product_photos_qty',\n",
    "             'product_weight_g',\n",
    "             'product_length_cm',\n",
    "             'product_height_cm',\n",
    "             'product_width_cm']\n",
    ")"
   ]
  },
  {
   "cell_type": "code",
   "execution_count": 11,
   "id": "1a8b3665",
   "metadata": {},
   "outputs": [
    {
     "data": {
      "text/html": [
       "<div>\n",
       "<style scoped>\n",
       "    .dataframe tbody tr th:only-of-type {\n",
       "        vertical-align: middle;\n",
       "    }\n",
       "\n",
       "    .dataframe tbody tr th {\n",
       "        vertical-align: top;\n",
       "    }\n",
       "\n",
       "    .dataframe thead th {\n",
       "        text-align: right;\n",
       "    }\n",
       "</style>\n",
       "<table border=\"1\" class=\"dataframe\">\n",
       "  <thead>\n",
       "    <tr style=\"text-align: right;\">\n",
       "      <th></th>\n",
       "      <th>product_id</th>\n",
       "      <th>product_category_name</th>\n",
       "    </tr>\n",
       "  </thead>\n",
       "  <tbody>\n",
       "    <tr>\n",
       "      <th>0</th>\n",
       "      <td>1e9e8ef04dbcff4541ed26657ea517e5</td>\n",
       "      <td>perfumaria</td>\n",
       "    </tr>\n",
       "  </tbody>\n",
       "</table>\n",
       "</div>"
      ],
      "text/plain": [
       "                         product_id product_category_name\n",
       "0  1e9e8ef04dbcff4541ed26657ea517e5            perfumaria"
      ]
     },
     "execution_count": 11,
     "metadata": {},
     "output_type": "execute_result"
    }
   ],
   "source": [
    "products.head(1)"
   ]
  },
  {
   "cell_type": "markdown",
   "id": "b142800d",
   "metadata": {},
   "source": [
    "### Change the product name to english"
   ]
  },
  {
   "cell_type": "code",
   "execution_count": 12,
   "id": "d547b096",
   "metadata": {},
   "outputs": [],
   "source": [
    "pcn_transl = pd.read_csv(\"product_category_name_translation.csv\")"
   ]
  },
  {
   "cell_type": "code",
   "execution_count": 13,
   "id": "96854796",
   "metadata": {},
   "outputs": [],
   "source": [
    "products = products.merge(\n",
    "    pcn_transl,\n",
    "    on = 'product_category_name',\n",
    "    how='left'\n",
    ")"
   ]
  },
  {
   "cell_type": "code",
   "execution_count": 14,
   "id": "f4077371",
   "metadata": {},
   "outputs": [
    {
     "data": {
      "text/html": [
       "<div>\n",
       "<style scoped>\n",
       "    .dataframe tbody tr th:only-of-type {\n",
       "        vertical-align: middle;\n",
       "    }\n",
       "\n",
       "    .dataframe tbody tr th {\n",
       "        vertical-align: top;\n",
       "    }\n",
       "\n",
       "    .dataframe thead th {\n",
       "        text-align: right;\n",
       "    }\n",
       "</style>\n",
       "<table border=\"1\" class=\"dataframe\">\n",
       "  <thead>\n",
       "    <tr style=\"text-align: right;\">\n",
       "      <th></th>\n",
       "      <th>product_id</th>\n",
       "      <th>product_category_name</th>\n",
       "      <th>product_category_name_english</th>\n",
       "    </tr>\n",
       "  </thead>\n",
       "  <tbody>\n",
       "    <tr>\n",
       "      <th>0</th>\n",
       "      <td>1e9e8ef04dbcff4541ed26657ea517e5</td>\n",
       "      <td>perfumaria</td>\n",
       "      <td>perfumery</td>\n",
       "    </tr>\n",
       "  </tbody>\n",
       "</table>\n",
       "</div>"
      ],
      "text/plain": [
       "                         product_id product_category_name  \\\n",
       "0  1e9e8ef04dbcff4541ed26657ea517e5            perfumaria   \n",
       "\n",
       "  product_category_name_english  \n",
       "0                     perfumery  "
      ]
     },
     "execution_count": 14,
     "metadata": {},
     "output_type": "execute_result"
    }
   ],
   "source": [
    "products.head(1)"
   ]
  },
  {
   "cell_type": "code",
   "execution_count": 15,
   "id": "d9fbcef4",
   "metadata": {},
   "outputs": [
    {
     "data": {
      "text/html": [
       "<div>\n",
       "<style scoped>\n",
       "    .dataframe tbody tr th:only-of-type {\n",
       "        vertical-align: middle;\n",
       "    }\n",
       "\n",
       "    .dataframe tbody tr th {\n",
       "        vertical-align: top;\n",
       "    }\n",
       "\n",
       "    .dataframe thead th {\n",
       "        text-align: right;\n",
       "    }\n",
       "</style>\n",
       "<table border=\"1\" class=\"dataframe\">\n",
       "  <thead>\n",
       "    <tr style=\"text-align: right;\">\n",
       "      <th></th>\n",
       "      <th>product_id</th>\n",
       "      <th>product_category_name_english</th>\n",
       "    </tr>\n",
       "  </thead>\n",
       "  <tbody>\n",
       "    <tr>\n",
       "      <th>0</th>\n",
       "      <td>1e9e8ef04dbcff4541ed26657ea517e5</td>\n",
       "      <td>perfumery</td>\n",
       "    </tr>\n",
       "  </tbody>\n",
       "</table>\n",
       "</div>"
      ],
      "text/plain": [
       "                         product_id product_category_name_english\n",
       "0  1e9e8ef04dbcff4541ed26657ea517e5                     perfumery"
      ]
     },
     "execution_count": 15,
     "metadata": {},
     "output_type": "execute_result"
    }
   ],
   "source": [
    "products.drop(\n",
    "    'product_category_name',\n",
    "    axis=1,\n",
    "    inplace=True\n",
    ")"
   ]
  },
  {
   "cell_type": "code",
   "execution_count": null,
   "id": "004fca18",
   "metadata": {},
   "outputs": [],
   "source": [
    "products.head(1)"
   ]
  },
  {
   "cell_type": "markdown",
   "id": "6650ad2f",
   "metadata": {},
   "source": [
    "## 4. Order, Orders Item & Order Reviews Data"
   ]
  },
  {
   "cell_type": "code",
   "execution_count": 16,
   "id": "11a4dfaa",
   "metadata": {},
   "outputs": [],
   "source": [
    "order_items = pd.read_csv(\"olist_order_items_dataset.csv\")\n",
    "orders = pd.read_csv(\"olist_orders_dataset.csv\")\n",
    "order_reviews = pd.read_csv(\"olist_order_reviews_dataset.csv\")"
   ]
  },
  {
   "cell_type": "markdown",
   "id": "dea58901",
   "metadata": {},
   "source": [
    "## 5. Order Payments Data"
   ]
  },
  {
   "cell_type": "code",
   "execution_count": 17,
   "id": "b7963f0f",
   "metadata": {},
   "outputs": [],
   "source": [
    "order_pay = pd.read_csv(\"olist_order_payments_dataset.csv\")"
   ]
  },
  {
   "cell_type": "markdown",
   "id": "05f8479d",
   "metadata": {},
   "source": [
    "## 6. Geolocation Data"
   ]
  },
  {
   "cell_type": "code",
   "execution_count": 18,
   "id": "c93350eb",
   "metadata": {},
   "outputs": [],
   "source": [
    "geolocation = pd.read_csv(\"olist_geolocation_dataset.csv\")"
   ]
  },
  {
   "cell_type": "code",
   "execution_count": null,
   "id": "55f33189",
   "metadata": {},
   "outputs": [],
   "source": [
    "# remove columns yang tidak butuh\n",
    "df = df.drop(axis=1,\n",
    "columns=['\n",
    "'order_delivered_carrier_date',\n",
    "'order_delivered_customer_date',\n",
    "'order_estimated_delivery_date',\n",
    "         'shipping_limit_date',\n",
    "'order_approved_at'])"
   ]
  }
 ],
 "metadata": {
  "kernelspec": {
   "display_name": "Python 3 (ipykernel)",
   "language": "python",
   "name": "python3"
  },
  "language_info": {
   "codemirror_mode": {
    "name": "ipython",
    "version": 3
   },
   "file_extension": ".py",
   "mimetype": "text/x-python",
   "name": "python",
   "nbconvert_exporter": "python",
   "pygments_lexer": "ipython3",
   "version": "3.9.13"
  }
 },
 "nbformat": 4,
 "nbformat_minor": 5
}
