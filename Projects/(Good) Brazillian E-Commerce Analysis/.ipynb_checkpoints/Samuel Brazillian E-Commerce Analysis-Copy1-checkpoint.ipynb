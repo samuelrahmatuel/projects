{
 "cells": [
  {
   "cell_type": "markdown",
   "id": "642bc17e",
   "metadata": {},
   "source": [
    "<img src=\"hero.png\" width=\"1000\" height=\"500\">\n",
    "<h1 style='text-align: center;'>OLIST Brazillian E-Commerce EDA</h1>\n",
    "<h5 style='text-align: right;'>researched by : Rahmatuel Samuel</h5>\n",
    "<a id=\"top\"></a>\n",
    "<div class=\"list-group\" id=\"list-tab\" role=\"tablist\">\n",
    "<h3 class=\"list-group-item list-group-item-action active\" data-toggle=\"list\" role=\"tab\" aria-controls=\"home\">Table of Content</h3>\n",
    "\n",
    "* [1. Libraries](#1)\n",
    "* [2. Reading the Data](#2)\n",
    "    - [1.1 An Overview from the Data](#2.1)\n",
    "* [3. Exploratory Data Analysis](#3) \n",
    "    - [3.1 Total Orders on E-Commerce](#3.1)\n",
    "    - [3.2 E-Commerce Around Brazil](#3.2)\n",
    "    - [3.3 E-Commerce Impact on Economy](#3.3)\n",
    "    - [3.4 Payment Type Analysis](#3.4)\n",
    "    - [3.6 Geolocation Analysis](#3.6)\n",
    "\n",
    "## Project Description\n",
    "\n",
    "1. This dataset is generously provided by Olist, the largest department store on the Brazilian market. Olist connects small businesses from all over Brazil to the channel without any hassle and with one contract.\n",
    "\n",
    "2. E-commerce is a business model that allows companies or individuals to buy or sell goods via the internet. E-commerce customers have unimaginable variety personalities, a potential market is usually not characterized singularly nor easily. \n",
    "\n",
    "3. It becomes important to know your target customer base in order to make sure your communications are both effective (attractive, action-promoting) and appropriate (non-offensive, timely, and relevant). \n",
    "\n",
    "4. The dataset has information of 100k orders from 2016 to 2018 made in several markets in Brazil. This is real commercial data, it has been anonymized.\n",
    "\n",
    "5. The merchant can sell their products through the Olist Store and have them shipped directly to the customer using the Olist logistics partner. \n",
    "\n",
    "6. Once the customer purchases the product from the Olist Store, the seller will be notified to fulfill that order. \n",
    "\n",
    "7. Once the customer receives the product, or the estimated delivery date is due, the customer gets a satisfaction survey via email where he or she can provide a note for the purchase experience and some comments."
   ]
  },
  {
   "cell_type": "markdown",
   "id": "7a7a301b",
   "metadata": {},
   "source": [
    "## Data Understanding \n",
    "\n",
    "| Columns Name | Data Type, Length | Description | Present |\n",
    "| -- | -- | -- | -- |\n",
    "| customer_id | object | Key to the orders dataset. Each order has a unique customer_id.| Unique customer id to merge with orders dataset |\n",
    "| customer_unique_id | object | unique identifier of a customer.| represent customer unique id\n",
    "| customer_zip_code_prefix | int64 | first five digits of customer zip code| represent first five zip code of geolocation customer\n",
    "| customer_city  |  object |customer city name| a customer city name in brazzil\n",
    "| customer_state |  object |customer state| represent 2 letters of name customer sate\n",
    "| geolocation_zip_code_prefix | int64 |first 5 digits of zip code| represent first five zip code of geolocation city and state\n",
    "| geolocation_lat | float64 |Geolocation latitude| represent of the angular distance of a place north or south of the earth's equator, or of a celestial object north or south of the celestial equator, expressed in degrees.\n",
    "| geolocation_lng | float64 |Geolocation longitude| the angular distance of a place east or west of the meridian at Greenwich, England, or west of the standard meridian of a celestial object, expressed in degrees.\n",
    "| geolocation_city |  object |city name| represent of geolocation city name\n",
    "| geolocation_state |  object |state| represent 2 letter of state where the geolocation is \n",
    "| order_id  |  object |order unique identifier| An unique id where every transaction have order id\n",
    "| order_item_id | int64 |sequential number identifying number of items included in the same order.| A serial number for an unique identifier assigned  sequentially to an item, to uniquely identify it\n",
    "| product_id  |  object |product unique identifier| A serial number for a unique identifier assigned  to an product, to uniquely identify it\n",
    "| seller_id | object  |seller unique identifier| A serial number for a unique identifier assigned  to an seller, to uniquely identify it\n",
    "| shipping_limit_date| object  |Shows the seller shipping limit date for handling the order over to the logistic partner.| the estimated delivery date is when a customer can reasonably expect the order to arrive.\n",
    "| price | float64 |item price| the retail price of each item of consumer goods.\n",
    "| freight_value | float64 |item freight value item (if an order has more than one item the freight value is splitted between)|  a price at which a certain cargo is delivered from one point to another\n",
    "| payment_sequential | int64 |a customer may pay an order with more than one payment method. If he does so, a sequence will be| a sequential pay structure, principal payments are typically allocated to the securities in order of seniority.\n",
    "| payment_type |  object |method of payment chosen by the customer.| A various of type payment for customer to pay a transaction\n",
    "| payment_installments | int64 |number of installments chosen by the customer.| Instalment payments refer to a customer paying a bill in small portions throughout a fixed period of time\n",
    "| payment_value  | float64 | transaction value.| A total of amount money customer need to pay to succesfull transaction"
   ]
  },
  {
   "cell_type": "markdown",
   "id": "b127fbdb",
   "metadata": {},
   "source": [
    "## Data Schemes\n",
    "<img src=\"data_schemes.png\" width=\"1000\" height=\"500\">"
   ]
  },
  {
   "cell_type": "markdown",
   "id": "cd424be6",
   "metadata": {},
   "source": [
    "## Data Relational Information"
   ]
  },
  {
   "cell_type": "code",
   "execution_count": 21,
   "id": "a7a8c484",
   "metadata": {},
   "outputs": [],
   "source": [
    "import pandas as pd\n",
    "import os"
   ]
  },
  {
   "cell_type": "code",
   "execution_count": 2,
   "id": "26402eaa",
   "metadata": {},
   "outputs": [],
   "source": [
    "lst = [\n",
    "    'olist_customers_dataset.csv',\n",
    "    'olist_geolocation_dataset.csv',\n",
    "    'olist_order_items_dataset.csv',\n",
    "    'olist_order_payments_dataset.csv',\n",
    "    'olist_order_reviews_dataset.csv',\n",
    "    'olist_orders_dataset.csv',\n",
    "    'olist_products_dataset.csv',\n",
    "    'olist_sellers_dataset.csv',\n",
    "    'product_category_name_translation.csv'\n",
    "]"
   ]
  },
  {
   "cell_type": "code",
   "execution_count": 3,
   "id": "fefb4991",
   "metadata": {},
   "outputs": [],
   "source": [
    "for i in lst:\n",
    "    df = pd.read_csv(i)\n",
    "#     df.info()"
   ]
  },
  {
   "cell_type": "markdown",
   "id": "a21bbc88",
   "metadata": {},
   "source": [
    "<h1 style='text-align: center;'>ERD (Entity Relationship Diagram) </h1>\n",
    "<img src=\"Data Relation.png\" width=\"1000\" height=\"500\">"
   ]
  },
  {
   "cell_type": "markdown",
   "id": "ddac567d",
   "metadata": {},
   "source": [
    "# Data Loading"
   ]
  },
  {
   "cell_type": "markdown",
   "id": "881b0026",
   "metadata": {},
   "source": [
    "## 1. Customers Data"
   ]
  },
  {
   "cell_type": "code",
   "execution_count": 4,
   "id": "0ba75e29",
   "metadata": {},
   "outputs": [],
   "source": [
    "customers = pd.read_csv(\"olist_customers_dataset.csv\")"
   ]
  },
  {
   "cell_type": "code",
   "execution_count": 5,
   "id": "b3325df5",
   "metadata": {},
   "outputs": [
    {
     "data": {
      "text/html": [
       "<div>\n",
       "<style scoped>\n",
       "    .dataframe tbody tr th:only-of-type {\n",
       "        vertical-align: middle;\n",
       "    }\n",
       "\n",
       "    .dataframe tbody tr th {\n",
       "        vertical-align: top;\n",
       "    }\n",
       "\n",
       "    .dataframe thead th {\n",
       "        text-align: right;\n",
       "    }\n",
       "</style>\n",
       "<table border=\"1\" class=\"dataframe\">\n",
       "  <thead>\n",
       "    <tr style=\"text-align: right;\">\n",
       "      <th></th>\n",
       "      <th>customer_id</th>\n",
       "      <th>customer_unique_id</th>\n",
       "      <th>customer_zip_code_prefix</th>\n",
       "      <th>customer_city</th>\n",
       "      <th>customer_state</th>\n",
       "    </tr>\n",
       "  </thead>\n",
       "  <tbody>\n",
       "    <tr>\n",
       "      <th>0</th>\n",
       "      <td>06b8999e2fba1a1fbc88172c00ba8bc7</td>\n",
       "      <td>861eff4711a542e4b93843c6dd7febb0</td>\n",
       "      <td>14409</td>\n",
       "      <td>franca</td>\n",
       "      <td>SP</td>\n",
       "    </tr>\n",
       "  </tbody>\n",
       "</table>\n",
       "</div>"
      ],
      "text/plain": [
       "                        customer_id                customer_unique_id  \\\n",
       "0  06b8999e2fba1a1fbc88172c00ba8bc7  861eff4711a542e4b93843c6dd7febb0   \n",
       "\n",
       "   customer_zip_code_prefix customer_city customer_state  \n",
       "0                     14409        franca             SP  "
      ]
     },
     "execution_count": 5,
     "metadata": {},
     "output_type": "execute_result"
    }
   ],
   "source": [
    "customers.head(1)"
   ]
  },
  {
   "cell_type": "markdown",
   "id": "049d58ed",
   "metadata": {},
   "source": [
    "## 2. Sellers Data"
   ]
  },
  {
   "cell_type": "code",
   "execution_count": 6,
   "id": "66bb01e3",
   "metadata": {},
   "outputs": [],
   "source": [
    "sellers = pd.read_csv(\"olist_sellers_dataset.csv\")"
   ]
  },
  {
   "cell_type": "code",
   "execution_count": 7,
   "id": "b67775f2",
   "metadata": {},
   "outputs": [
    {
     "data": {
      "text/html": [
       "<div>\n",
       "<style scoped>\n",
       "    .dataframe tbody tr th:only-of-type {\n",
       "        vertical-align: middle;\n",
       "    }\n",
       "\n",
       "    .dataframe tbody tr th {\n",
       "        vertical-align: top;\n",
       "    }\n",
       "\n",
       "    .dataframe thead th {\n",
       "        text-align: right;\n",
       "    }\n",
       "</style>\n",
       "<table border=\"1\" class=\"dataframe\">\n",
       "  <thead>\n",
       "    <tr style=\"text-align: right;\">\n",
       "      <th></th>\n",
       "      <th>seller_id</th>\n",
       "      <th>seller_zip_code_prefix</th>\n",
       "      <th>seller_city</th>\n",
       "      <th>seller_state</th>\n",
       "    </tr>\n",
       "  </thead>\n",
       "  <tbody>\n",
       "    <tr>\n",
       "      <th>0</th>\n",
       "      <td>3442f8959a84dea7ee197c632cb2df15</td>\n",
       "      <td>13023</td>\n",
       "      <td>campinas</td>\n",
       "      <td>SP</td>\n",
       "    </tr>\n",
       "  </tbody>\n",
       "</table>\n",
       "</div>"
      ],
      "text/plain": [
       "                          seller_id  seller_zip_code_prefix seller_city  \\\n",
       "0  3442f8959a84dea7ee197c632cb2df15                   13023    campinas   \n",
       "\n",
       "  seller_state  \n",
       "0           SP  "
      ]
     },
     "execution_count": 7,
     "metadata": {},
     "output_type": "execute_result"
    }
   ],
   "source": [
    "sellers.head(1)"
   ]
  },
  {
   "cell_type": "markdown",
   "id": "c0e75cfc",
   "metadata": {},
   "source": [
    "## 3. Products"
   ]
  },
  {
   "cell_type": "code",
   "execution_count": 8,
   "id": "bc4bbec6",
   "metadata": {},
   "outputs": [],
   "source": [
    "products = pd.read_csv(\"olist_products_dataset.csv\")"
   ]
  },
  {
   "cell_type": "code",
   "execution_count": 9,
   "id": "50565d45",
   "metadata": {},
   "outputs": [
    {
     "data": {
      "text/html": [
       "<div>\n",
       "<style scoped>\n",
       "    .dataframe tbody tr th:only-of-type {\n",
       "        vertical-align: middle;\n",
       "    }\n",
       "\n",
       "    .dataframe tbody tr th {\n",
       "        vertical-align: top;\n",
       "    }\n",
       "\n",
       "    .dataframe thead th {\n",
       "        text-align: right;\n",
       "    }\n",
       "</style>\n",
       "<table border=\"1\" class=\"dataframe\">\n",
       "  <thead>\n",
       "    <tr style=\"text-align: right;\">\n",
       "      <th></th>\n",
       "      <th>product_id</th>\n",
       "      <th>product_category_name</th>\n",
       "      <th>product_name_lenght</th>\n",
       "      <th>product_description_lenght</th>\n",
       "      <th>product_photos_qty</th>\n",
       "      <th>product_weight_g</th>\n",
       "      <th>product_length_cm</th>\n",
       "      <th>product_height_cm</th>\n",
       "      <th>product_width_cm</th>\n",
       "    </tr>\n",
       "  </thead>\n",
       "  <tbody>\n",
       "    <tr>\n",
       "      <th>0</th>\n",
       "      <td>1e9e8ef04dbcff4541ed26657ea517e5</td>\n",
       "      <td>perfumaria</td>\n",
       "      <td>40.0</td>\n",
       "      <td>287.0</td>\n",
       "      <td>1.0</td>\n",
       "      <td>225.0</td>\n",
       "      <td>16.0</td>\n",
       "      <td>10.0</td>\n",
       "      <td>14.0</td>\n",
       "    </tr>\n",
       "  </tbody>\n",
       "</table>\n",
       "</div>"
      ],
      "text/plain": [
       "                         product_id product_category_name  \\\n",
       "0  1e9e8ef04dbcff4541ed26657ea517e5            perfumaria   \n",
       "\n",
       "   product_name_lenght  product_description_lenght  product_photos_qty  \\\n",
       "0                 40.0                       287.0                 1.0   \n",
       "\n",
       "   product_weight_g  product_length_cm  product_height_cm  product_width_cm  \n",
       "0             225.0               16.0               10.0              14.0  "
      ]
     },
     "execution_count": 9,
     "metadata": {},
     "output_type": "execute_result"
    }
   ],
   "source": [
    "products.head(1)"
   ]
  },
  {
   "cell_type": "markdown",
   "id": "899d9387",
   "metadata": {},
   "source": [
    "<h3 style='text-align: center;'>Remove Irrelevant Columns in Products</h3>"
   ]
  },
  {
   "cell_type": "code",
   "execution_count": 10,
   "id": "1e9c0955",
   "metadata": {},
   "outputs": [],
   "source": [
    "products = products.drop(\n",
    "    columns=['product_name_lenght',\n",
    "             'product_description_lenght',\n",
    "             'product_photos_qty',\n",
    "             'product_weight_g',\n",
    "             'product_length_cm',\n",
    "             'product_height_cm',\n",
    "             'product_width_cm'\n",
    "            ]\n",
    ")"
   ]
  },
  {
   "cell_type": "code",
   "execution_count": 11,
   "id": "1a8b3665",
   "metadata": {},
   "outputs": [
    {
     "data": {
      "text/html": [
       "<div>\n",
       "<style scoped>\n",
       "    .dataframe tbody tr th:only-of-type {\n",
       "        vertical-align: middle;\n",
       "    }\n",
       "\n",
       "    .dataframe tbody tr th {\n",
       "        vertical-align: top;\n",
       "    }\n",
       "\n",
       "    .dataframe thead th {\n",
       "        text-align: right;\n",
       "    }\n",
       "</style>\n",
       "<table border=\"1\" class=\"dataframe\">\n",
       "  <thead>\n",
       "    <tr style=\"text-align: right;\">\n",
       "      <th></th>\n",
       "      <th>product_id</th>\n",
       "      <th>product_category_name</th>\n",
       "    </tr>\n",
       "  </thead>\n",
       "  <tbody>\n",
       "    <tr>\n",
       "      <th>0</th>\n",
       "      <td>1e9e8ef04dbcff4541ed26657ea517e5</td>\n",
       "      <td>perfumaria</td>\n",
       "    </tr>\n",
       "  </tbody>\n",
       "</table>\n",
       "</div>"
      ],
      "text/plain": [
       "                         product_id product_category_name\n",
       "0  1e9e8ef04dbcff4541ed26657ea517e5            perfumaria"
      ]
     },
     "execution_count": 11,
     "metadata": {},
     "output_type": "execute_result"
    }
   ],
   "source": [
    "products.head(1)"
   ]
  },
  {
   "cell_type": "markdown",
   "id": "b142800d",
   "metadata": {},
   "source": [
    "<h3 style='text-align: center;'>Change the product name to english</h3>"
   ]
  },
  {
   "cell_type": "code",
   "execution_count": 12,
   "id": "d547b096",
   "metadata": {},
   "outputs": [],
   "source": [
    "pcn_transl = pd.read_csv(\"product_category_name_translation.csv\")"
   ]
  },
  {
   "cell_type": "code",
   "execution_count": 13,
   "id": "96854796",
   "metadata": {},
   "outputs": [],
   "source": [
    "products = products.merge(\n",
    "    pcn_transl,\n",
    "    on = 'product_category_name',\n",
    "    how='left'\n",
    ")"
   ]
  },
  {
   "cell_type": "code",
   "execution_count": 14,
   "id": "f4077371",
   "metadata": {},
   "outputs": [
    {
     "data": {
      "text/html": [
       "<div>\n",
       "<style scoped>\n",
       "    .dataframe tbody tr th:only-of-type {\n",
       "        vertical-align: middle;\n",
       "    }\n",
       "\n",
       "    .dataframe tbody tr th {\n",
       "        vertical-align: top;\n",
       "    }\n",
       "\n",
       "    .dataframe thead th {\n",
       "        text-align: right;\n",
       "    }\n",
       "</style>\n",
       "<table border=\"1\" class=\"dataframe\">\n",
       "  <thead>\n",
       "    <tr style=\"text-align: right;\">\n",
       "      <th></th>\n",
       "      <th>product_id</th>\n",
       "      <th>product_category_name</th>\n",
       "      <th>product_category_name_english</th>\n",
       "    </tr>\n",
       "  </thead>\n",
       "  <tbody>\n",
       "    <tr>\n",
       "      <th>0</th>\n",
       "      <td>1e9e8ef04dbcff4541ed26657ea517e5</td>\n",
       "      <td>perfumaria</td>\n",
       "      <td>perfumery</td>\n",
       "    </tr>\n",
       "  </tbody>\n",
       "</table>\n",
       "</div>"
      ],
      "text/plain": [
       "                         product_id product_category_name  \\\n",
       "0  1e9e8ef04dbcff4541ed26657ea517e5            perfumaria   \n",
       "\n",
       "  product_category_name_english  \n",
       "0                     perfumery  "
      ]
     },
     "execution_count": 14,
     "metadata": {},
     "output_type": "execute_result"
    }
   ],
   "source": [
    "products.head(1)"
   ]
  },
  {
   "cell_type": "code",
   "execution_count": 15,
   "id": "d9fbcef4",
   "metadata": {},
   "outputs": [],
   "source": [
    "products.drop(\n",
    "    'product_category_name',\n",
    "    axis=1,\n",
    "    inplace=True\n",
    ")"
   ]
  },
  {
   "cell_type": "code",
   "execution_count": 16,
   "id": "004fca18",
   "metadata": {},
   "outputs": [
    {
     "data": {
      "text/html": [
       "<div>\n",
       "<style scoped>\n",
       "    .dataframe tbody tr th:only-of-type {\n",
       "        vertical-align: middle;\n",
       "    }\n",
       "\n",
       "    .dataframe tbody tr th {\n",
       "        vertical-align: top;\n",
       "    }\n",
       "\n",
       "    .dataframe thead th {\n",
       "        text-align: right;\n",
       "    }\n",
       "</style>\n",
       "<table border=\"1\" class=\"dataframe\">\n",
       "  <thead>\n",
       "    <tr style=\"text-align: right;\">\n",
       "      <th></th>\n",
       "      <th>product_id</th>\n",
       "      <th>product_category_name_english</th>\n",
       "    </tr>\n",
       "  </thead>\n",
       "  <tbody>\n",
       "    <tr>\n",
       "      <th>0</th>\n",
       "      <td>1e9e8ef04dbcff4541ed26657ea517e5</td>\n",
       "      <td>perfumery</td>\n",
       "    </tr>\n",
       "  </tbody>\n",
       "</table>\n",
       "</div>"
      ],
      "text/plain": [
       "                         product_id product_category_name_english\n",
       "0  1e9e8ef04dbcff4541ed26657ea517e5                     perfumery"
      ]
     },
     "execution_count": 16,
     "metadata": {},
     "output_type": "execute_result"
    }
   ],
   "source": [
    "products.head(1)"
   ]
  },
  {
   "cell_type": "markdown",
   "id": "6650ad2f",
   "metadata": {},
   "source": [
    "## 4. Order, Orders Item & Order Reviews Data"
   ]
  },
  {
   "cell_type": "code",
   "execution_count": 17,
   "id": "11a4dfaa",
   "metadata": {},
   "outputs": [
    {
     "data": {
      "text/html": [
       "<div>\n",
       "<style scoped>\n",
       "    .dataframe tbody tr th:only-of-type {\n",
       "        vertical-align: middle;\n",
       "    }\n",
       "\n",
       "    .dataframe tbody tr th {\n",
       "        vertical-align: top;\n",
       "    }\n",
       "\n",
       "    .dataframe thead th {\n",
       "        text-align: right;\n",
       "    }\n",
       "</style>\n",
       "<table border=\"1\" class=\"dataframe\">\n",
       "  <thead>\n",
       "    <tr style=\"text-align: right;\">\n",
       "      <th></th>\n",
       "      <th>order_id</th>\n",
       "      <th>order_item_id</th>\n",
       "      <th>product_id</th>\n",
       "      <th>seller_id</th>\n",
       "      <th>shipping_limit_date</th>\n",
       "      <th>price</th>\n",
       "      <th>freight_value</th>\n",
       "    </tr>\n",
       "  </thead>\n",
       "  <tbody>\n",
       "    <tr>\n",
       "      <th>0</th>\n",
       "      <td>00010242fe8c5a6d1ba2dd792cb16214</td>\n",
       "      <td>1</td>\n",
       "      <td>4244733e06e7ecb4970a6e2683c13e61</td>\n",
       "      <td>48436dade18ac8b2bce089ec2a041202</td>\n",
       "      <td>2017-09-19 09:45:35</td>\n",
       "      <td>58.9</td>\n",
       "      <td>13.29</td>\n",
       "    </tr>\n",
       "  </tbody>\n",
       "</table>\n",
       "</div>"
      ],
      "text/plain": [
       "                           order_id  order_item_id  \\\n",
       "0  00010242fe8c5a6d1ba2dd792cb16214              1   \n",
       "\n",
       "                         product_id                         seller_id  \\\n",
       "0  4244733e06e7ecb4970a6e2683c13e61  48436dade18ac8b2bce089ec2a041202   \n",
       "\n",
       "   shipping_limit_date  price  freight_value  \n",
       "0  2017-09-19 09:45:35   58.9          13.29  "
      ]
     },
     "execution_count": 17,
     "metadata": {},
     "output_type": "execute_result"
    }
   ],
   "source": [
    "order_items = pd.read_csv(\"olist_order_items_dataset.csv\")\n",
    "order_items.head(1)"
   ]
  },
  {
   "cell_type": "markdown",
   "id": "73892280",
   "metadata": {},
   "source": [
    "<h3 style='text-align: center;'>Remove Irrelevant Columns in Orders Item</h3>"
   ]
  },
  {
   "cell_type": "code",
   "execution_count": 18,
   "id": "26edd836",
   "metadata": {},
   "outputs": [],
   "source": [
    "order_items = order_items.drop(\n",
    "    columns=['shipping_limit_date'\n",
    "            ]\n",
    ")"
   ]
  },
  {
   "cell_type": "code",
   "execution_count": 19,
   "id": "990a030e",
   "metadata": {},
   "outputs": [
    {
     "data": {
      "text/html": [
       "<div>\n",
       "<style scoped>\n",
       "    .dataframe tbody tr th:only-of-type {\n",
       "        vertical-align: middle;\n",
       "    }\n",
       "\n",
       "    .dataframe tbody tr th {\n",
       "        vertical-align: top;\n",
       "    }\n",
       "\n",
       "    .dataframe thead th {\n",
       "        text-align: right;\n",
       "    }\n",
       "</style>\n",
       "<table border=\"1\" class=\"dataframe\">\n",
       "  <thead>\n",
       "    <tr style=\"text-align: right;\">\n",
       "      <th></th>\n",
       "      <th>order_id</th>\n",
       "      <th>order_item_id</th>\n",
       "      <th>product_id</th>\n",
       "      <th>seller_id</th>\n",
       "      <th>price</th>\n",
       "      <th>freight_value</th>\n",
       "    </tr>\n",
       "  </thead>\n",
       "  <tbody>\n",
       "    <tr>\n",
       "      <th>0</th>\n",
       "      <td>00010242fe8c5a6d1ba2dd792cb16214</td>\n",
       "      <td>1</td>\n",
       "      <td>4244733e06e7ecb4970a6e2683c13e61</td>\n",
       "      <td>48436dade18ac8b2bce089ec2a041202</td>\n",
       "      <td>58.9</td>\n",
       "      <td>13.29</td>\n",
       "    </tr>\n",
       "  </tbody>\n",
       "</table>\n",
       "</div>"
      ],
      "text/plain": [
       "                           order_id  order_item_id  \\\n",
       "0  00010242fe8c5a6d1ba2dd792cb16214              1   \n",
       "\n",
       "                         product_id                         seller_id  price  \\\n",
       "0  4244733e06e7ecb4970a6e2683c13e61  48436dade18ac8b2bce089ec2a041202   58.9   \n",
       "\n",
       "   freight_value  \n",
       "0          13.29  "
      ]
     },
     "execution_count": 19,
     "metadata": {},
     "output_type": "execute_result"
    }
   ],
   "source": [
    "order_items.head(1)"
   ]
  },
  {
   "cell_type": "code",
   "execution_count": 20,
   "id": "016f900c",
   "metadata": {},
   "outputs": [
    {
     "data": {
      "text/html": [
       "<div>\n",
       "<style scoped>\n",
       "    .dataframe tbody tr th:only-of-type {\n",
       "        vertical-align: middle;\n",
       "    }\n",
       "\n",
       "    .dataframe tbody tr th {\n",
       "        vertical-align: top;\n",
       "    }\n",
       "\n",
       "    .dataframe thead th {\n",
       "        text-align: right;\n",
       "    }\n",
       "</style>\n",
       "<table border=\"1\" class=\"dataframe\">\n",
       "  <thead>\n",
       "    <tr style=\"text-align: right;\">\n",
       "      <th></th>\n",
       "      <th>order_id</th>\n",
       "      <th>customer_id</th>\n",
       "      <th>order_status</th>\n",
       "      <th>order_purchase_timestamp</th>\n",
       "      <th>order_approved_at</th>\n",
       "      <th>order_delivered_carrier_date</th>\n",
       "      <th>order_delivered_customer_date</th>\n",
       "      <th>order_estimated_delivery_date</th>\n",
       "    </tr>\n",
       "  </thead>\n",
       "  <tbody>\n",
       "    <tr>\n",
       "      <th>0</th>\n",
       "      <td>e481f51cbdc54678b7cc49136f2d6af7</td>\n",
       "      <td>9ef432eb6251297304e76186b10a928d</td>\n",
       "      <td>delivered</td>\n",
       "      <td>2017-10-02 10:56:33</td>\n",
       "      <td>2017-10-02 11:07:15</td>\n",
       "      <td>2017-10-04 19:55:00</td>\n",
       "      <td>2017-10-10 21:25:13</td>\n",
       "      <td>2017-10-18 00:00:00</td>\n",
       "    </tr>\n",
       "  </tbody>\n",
       "</table>\n",
       "</div>"
      ],
      "text/plain": [
       "                           order_id                       customer_id  \\\n",
       "0  e481f51cbdc54678b7cc49136f2d6af7  9ef432eb6251297304e76186b10a928d   \n",
       "\n",
       "  order_status order_purchase_timestamp    order_approved_at  \\\n",
       "0    delivered      2017-10-02 10:56:33  2017-10-02 11:07:15   \n",
       "\n",
       "  order_delivered_carrier_date order_delivered_customer_date  \\\n",
       "0          2017-10-04 19:55:00           2017-10-10 21:25:13   \n",
       "\n",
       "  order_estimated_delivery_date  \n",
       "0           2017-10-18 00:00:00  "
      ]
     },
     "execution_count": 20,
     "metadata": {},
     "output_type": "execute_result"
    }
   ],
   "source": [
    "orders = pd.read_csv(\"olist_orders_dataset.csv\")\n",
    "orders.head(1)"
   ]
  },
  {
   "cell_type": "markdown",
   "id": "11311190",
   "metadata": {},
   "source": [
    "<h3 style='text-align: center;'>Remove Irrelevant Columns in Orders</h3>"
   ]
  },
  {
   "cell_type": "code",
   "execution_count": 21,
   "id": "7153c971",
   "metadata": {},
   "outputs": [],
   "source": [
    "orders = orders.drop(\n",
    "    columns=['order_delivered_carrier_date',\n",
    "             'order_delivered_customer_date',\n",
    "             'order_estimated_delivery_date',\n",
    "             'order_approved_at'\n",
    "            ]\n",
    ")"
   ]
  },
  {
   "cell_type": "code",
   "execution_count": 22,
   "id": "3c632f95",
   "metadata": {},
   "outputs": [
    {
     "data": {
      "text/html": [
       "<div>\n",
       "<style scoped>\n",
       "    .dataframe tbody tr th:only-of-type {\n",
       "        vertical-align: middle;\n",
       "    }\n",
       "\n",
       "    .dataframe tbody tr th {\n",
       "        vertical-align: top;\n",
       "    }\n",
       "\n",
       "    .dataframe thead th {\n",
       "        text-align: right;\n",
       "    }\n",
       "</style>\n",
       "<table border=\"1\" class=\"dataframe\">\n",
       "  <thead>\n",
       "    <tr style=\"text-align: right;\">\n",
       "      <th></th>\n",
       "      <th>order_id</th>\n",
       "      <th>customer_id</th>\n",
       "      <th>order_status</th>\n",
       "      <th>order_purchase_timestamp</th>\n",
       "    </tr>\n",
       "  </thead>\n",
       "  <tbody>\n",
       "    <tr>\n",
       "      <th>0</th>\n",
       "      <td>e481f51cbdc54678b7cc49136f2d6af7</td>\n",
       "      <td>9ef432eb6251297304e76186b10a928d</td>\n",
       "      <td>delivered</td>\n",
       "      <td>2017-10-02 10:56:33</td>\n",
       "    </tr>\n",
       "  </tbody>\n",
       "</table>\n",
       "</div>"
      ],
      "text/plain": [
       "                           order_id                       customer_id  \\\n",
       "0  e481f51cbdc54678b7cc49136f2d6af7  9ef432eb6251297304e76186b10a928d   \n",
       "\n",
       "  order_status order_purchase_timestamp  \n",
       "0    delivered      2017-10-02 10:56:33  "
      ]
     },
     "execution_count": 22,
     "metadata": {},
     "output_type": "execute_result"
    }
   ],
   "source": [
    "orders.head(1)"
   ]
  },
  {
   "cell_type": "code",
   "execution_count": 23,
   "id": "2fe41417",
   "metadata": {
    "scrolled": true
   },
   "outputs": [
    {
     "data": {
      "text/html": [
       "<div>\n",
       "<style scoped>\n",
       "    .dataframe tbody tr th:only-of-type {\n",
       "        vertical-align: middle;\n",
       "    }\n",
       "\n",
       "    .dataframe tbody tr th {\n",
       "        vertical-align: top;\n",
       "    }\n",
       "\n",
       "    .dataframe thead th {\n",
       "        text-align: right;\n",
       "    }\n",
       "</style>\n",
       "<table border=\"1\" class=\"dataframe\">\n",
       "  <thead>\n",
       "    <tr style=\"text-align: right;\">\n",
       "      <th></th>\n",
       "      <th>review_id</th>\n",
       "      <th>order_id</th>\n",
       "      <th>review_score</th>\n",
       "      <th>review_comment_title</th>\n",
       "      <th>review_comment_message</th>\n",
       "      <th>review_creation_date</th>\n",
       "      <th>review_answer_timestamp</th>\n",
       "    </tr>\n",
       "  </thead>\n",
       "  <tbody>\n",
       "    <tr>\n",
       "      <th>0</th>\n",
       "      <td>7bc2406110b926393aa56f80a40eba40</td>\n",
       "      <td>73fc7af87114b39712e6da79b0a377eb</td>\n",
       "      <td>4</td>\n",
       "      <td>NaN</td>\n",
       "      <td>NaN</td>\n",
       "      <td>2018-01-18 00:00:00</td>\n",
       "      <td>2018-01-18 21:46:59</td>\n",
       "    </tr>\n",
       "  </tbody>\n",
       "</table>\n",
       "</div>"
      ],
      "text/plain": [
       "                          review_id                          order_id  \\\n",
       "0  7bc2406110b926393aa56f80a40eba40  73fc7af87114b39712e6da79b0a377eb   \n",
       "\n",
       "   review_score review_comment_title review_comment_message  \\\n",
       "0             4                  NaN                    NaN   \n",
       "\n",
       "  review_creation_date review_answer_timestamp  \n",
       "0  2018-01-18 00:00:00     2018-01-18 21:46:59  "
      ]
     },
     "execution_count": 23,
     "metadata": {},
     "output_type": "execute_result"
    }
   ],
   "source": [
    "order_reviews = pd.read_csv(\"olist_order_reviews_dataset.csv\")\n",
    "order_reviews.head(1)"
   ]
  },
  {
   "cell_type": "markdown",
   "id": "8deb77c5",
   "metadata": {},
   "source": [
    "<h3 style='text-align: center;'>Remove Irrelevant Columns in Order Reviews</h3>"
   ]
  },
  {
   "cell_type": "code",
   "execution_count": 24,
   "id": "7b3b31aa",
   "metadata": {},
   "outputs": [],
   "source": [
    "order_reviews = order_reviews.drop(\n",
    "    columns=['review_comment_title',\n",
    "             'review_comment_message',\n",
    "             'review_creation_date',\n",
    "             'review_answer_timestamp'\n",
    "            ]\n",
    ")"
   ]
  },
  {
   "cell_type": "code",
   "execution_count": 25,
   "id": "78281046",
   "metadata": {},
   "outputs": [
    {
     "data": {
      "text/html": [
       "<div>\n",
       "<style scoped>\n",
       "    .dataframe tbody tr th:only-of-type {\n",
       "        vertical-align: middle;\n",
       "    }\n",
       "\n",
       "    .dataframe tbody tr th {\n",
       "        vertical-align: top;\n",
       "    }\n",
       "\n",
       "    .dataframe thead th {\n",
       "        text-align: right;\n",
       "    }\n",
       "</style>\n",
       "<table border=\"1\" class=\"dataframe\">\n",
       "  <thead>\n",
       "    <tr style=\"text-align: right;\">\n",
       "      <th></th>\n",
       "      <th>review_id</th>\n",
       "      <th>order_id</th>\n",
       "      <th>review_score</th>\n",
       "    </tr>\n",
       "  </thead>\n",
       "  <tbody>\n",
       "    <tr>\n",
       "      <th>0</th>\n",
       "      <td>7bc2406110b926393aa56f80a40eba40</td>\n",
       "      <td>73fc7af87114b39712e6da79b0a377eb</td>\n",
       "      <td>4</td>\n",
       "    </tr>\n",
       "  </tbody>\n",
       "</table>\n",
       "</div>"
      ],
      "text/plain": [
       "                          review_id                          order_id  \\\n",
       "0  7bc2406110b926393aa56f80a40eba40  73fc7af87114b39712e6da79b0a377eb   \n",
       "\n",
       "   review_score  \n",
       "0             4  "
      ]
     },
     "execution_count": 25,
     "metadata": {},
     "output_type": "execute_result"
    }
   ],
   "source": [
    "order_reviews.head(1)"
   ]
  },
  {
   "cell_type": "markdown",
   "id": "dea58901",
   "metadata": {},
   "source": [
    "## 5. Order Payments Data"
   ]
  },
  {
   "cell_type": "code",
   "execution_count": 26,
   "id": "b7963f0f",
   "metadata": {},
   "outputs": [
    {
     "data": {
      "text/html": [
       "<div>\n",
       "<style scoped>\n",
       "    .dataframe tbody tr th:only-of-type {\n",
       "        vertical-align: middle;\n",
       "    }\n",
       "\n",
       "    .dataframe tbody tr th {\n",
       "        vertical-align: top;\n",
       "    }\n",
       "\n",
       "    .dataframe thead th {\n",
       "        text-align: right;\n",
       "    }\n",
       "</style>\n",
       "<table border=\"1\" class=\"dataframe\">\n",
       "  <thead>\n",
       "    <tr style=\"text-align: right;\">\n",
       "      <th></th>\n",
       "      <th>order_id</th>\n",
       "      <th>payment_sequential</th>\n",
       "      <th>payment_type</th>\n",
       "      <th>payment_installments</th>\n",
       "      <th>payment_value</th>\n",
       "    </tr>\n",
       "  </thead>\n",
       "  <tbody>\n",
       "    <tr>\n",
       "      <th>0</th>\n",
       "      <td>b81ef226f3fe1789b1e8b2acac839d17</td>\n",
       "      <td>1</td>\n",
       "      <td>credit_card</td>\n",
       "      <td>8</td>\n",
       "      <td>99.33</td>\n",
       "    </tr>\n",
       "  </tbody>\n",
       "</table>\n",
       "</div>"
      ],
      "text/plain": [
       "                           order_id  payment_sequential payment_type  \\\n",
       "0  b81ef226f3fe1789b1e8b2acac839d17                   1  credit_card   \n",
       "\n",
       "   payment_installments  payment_value  \n",
       "0                     8          99.33  "
      ]
     },
     "execution_count": 26,
     "metadata": {},
     "output_type": "execute_result"
    }
   ],
   "source": [
    "order_pay = pd.read_csv(\"olist_order_payments_dataset.csv\")\n",
    "order_pay.head(1)"
   ]
  },
  {
   "cell_type": "markdown",
   "id": "05f8479d",
   "metadata": {},
   "source": [
    "## 6. Geolocation Data"
   ]
  },
  {
   "cell_type": "code",
   "execution_count": 6,
   "id": "c93350eb",
   "metadata": {},
   "outputs": [
    {
     "data": {
      "text/html": [
       "<div>\n",
       "<style scoped>\n",
       "    .dataframe tbody tr th:only-of-type {\n",
       "        vertical-align: middle;\n",
       "    }\n",
       "\n",
       "    .dataframe tbody tr th {\n",
       "        vertical-align: top;\n",
       "    }\n",
       "\n",
       "    .dataframe thead th {\n",
       "        text-align: right;\n",
       "    }\n",
       "</style>\n",
       "<table border=\"1\" class=\"dataframe\">\n",
       "  <thead>\n",
       "    <tr style=\"text-align: right;\">\n",
       "      <th></th>\n",
       "      <th>geolocation_zip_code_prefix</th>\n",
       "      <th>geolocation_lat</th>\n",
       "      <th>geolocation_lng</th>\n",
       "      <th>geolocation_city</th>\n",
       "      <th>geolocation_state</th>\n",
       "    </tr>\n",
       "  </thead>\n",
       "  <tbody>\n",
       "    <tr>\n",
       "      <th>0</th>\n",
       "      <td>1037</td>\n",
       "      <td>-23.545621</td>\n",
       "      <td>-46.639292</td>\n",
       "      <td>sao paulo</td>\n",
       "      <td>SP</td>\n",
       "    </tr>\n",
       "  </tbody>\n",
       "</table>\n",
       "</div>"
      ],
      "text/plain": [
       "   geolocation_zip_code_prefix  geolocation_lat  geolocation_lng  \\\n",
       "0                         1037       -23.545621       -46.639292   \n",
       "\n",
       "  geolocation_city geolocation_state  \n",
       "0        sao paulo                SP  "
      ]
     },
     "execution_count": 6,
     "metadata": {},
     "output_type": "execute_result"
    }
   ],
   "source": [
    "geo = pd.read_csv(\"olist_geolocation_dataset.csv\")\n",
    "geo.head(1)"
   ]
  },
  {
   "cell_type": "markdown",
   "id": "a2df3c93",
   "metadata": {},
   "source": [
    "# Updated Tables Info"
   ]
  },
  {
   "cell_type": "markdown",
   "id": "8a7e7b41",
   "metadata": {},
   "source": [
    "masukin foto"
   ]
  },
  {
   "cell_type": "markdown",
   "id": "ec748652",
   "metadata": {},
   "source": [
    "# Join All Data"
   ]
  },
  {
   "cell_type": "code",
   "execution_count": 28,
   "id": "fe4b962c",
   "metadata": {},
   "outputs": [],
   "source": [
    "# 1. Join Table orders with order_items\n",
    "df = orders.merge(\n",
    "    order_items,\n",
    "    on='order_id',\n",
    "    how='left'\n",
    ")"
   ]
  },
  {
   "cell_type": "code",
   "execution_count": 29,
   "id": "29ae31b6",
   "metadata": {},
   "outputs": [],
   "source": [
    "# 2. Join the merged data before with order_pay\n",
    "df = df.merge(\n",
    "    order_pay,\n",
    "    on='order_id',\n",
    "    how='outer',\n",
    "    validate='m:m'\n",
    ")"
   ]
  },
  {
   "cell_type": "code",
   "execution_count": 30,
   "id": "ea0244c8",
   "metadata": {},
   "outputs": [],
   "source": [
    "# 3. Join the merged data before with products\n",
    "df = df.merge(\n",
    "    products,\n",
    "    on='product_id',\n",
    "    how='outer'\n",
    ")"
   ]
  },
  {
   "cell_type": "code",
   "execution_count": 31,
   "id": "e2118402",
   "metadata": {},
   "outputs": [],
   "source": [
    "# 4. Join the merged data before with customers\n",
    "df = df.merge(\n",
    "    customers,\n",
    "    on='customer_id',\n",
    "    how='outer'\n",
    ")"
   ]
  },
  {
   "cell_type": "code",
   "execution_count": 32,
   "id": "f3607504",
   "metadata": {},
   "outputs": [],
   "source": [
    "# 5. Join the merged data before with sellers\n",
    "df = df.merge(\n",
    "    sellers,\n",
    "    on='seller_id',\n",
    "    how='outer'\n",
    ")"
   ]
  },
  {
   "cell_type": "code",
   "execution_count": 33,
   "id": "a1c890a5",
   "metadata": {},
   "outputs": [
    {
     "name": "stdout",
     "output_type": "stream",
     "text": [
      "<class 'pandas.core.frame.DataFrame'>\n",
      "Int64Index: 118434 entries, 0 to 118433\n",
      "Data columns (total 21 columns):\n",
      " #   Column                         Non-Null Count   Dtype  \n",
      "---  ------                         --------------   -----  \n",
      " 0   order_id                       118434 non-null  object \n",
      " 1   customer_id                    118434 non-null  object \n",
      " 2   order_status                   118434 non-null  object \n",
      " 3   order_purchase_timestamp       118434 non-null  object \n",
      " 4   order_item_id                  117604 non-null  float64\n",
      " 5   product_id                     117604 non-null  object \n",
      " 6   seller_id                      117604 non-null  object \n",
      " 7   price                          117604 non-null  float64\n",
      " 8   freight_value                  117604 non-null  float64\n",
      " 9   payment_sequential             118431 non-null  float64\n",
      " 10  payment_type                   118431 non-null  object \n",
      " 11  payment_installments           118431 non-null  float64\n",
      " 12  payment_value                  118431 non-null  float64\n",
      " 13  product_category_name_english  115881 non-null  object \n",
      " 14  customer_unique_id             118434 non-null  object \n",
      " 15  customer_zip_code_prefix       118434 non-null  int64  \n",
      " 16  customer_city                  118434 non-null  object \n",
      " 17  customer_state                 118434 non-null  object \n",
      " 18  seller_zip_code_prefix         117604 non-null  float64\n",
      " 19  seller_city                    117604 non-null  object \n",
      " 20  seller_state                   117604 non-null  object \n",
      "dtypes: float64(7), int64(1), object(13)\n",
      "memory usage: 19.9+ MB\n"
     ]
    }
   ],
   "source": [
    "# Checked the all merged data\n",
    "df.info()"
   ]
  },
  {
   "cell_type": "markdown",
   "id": "73860c55",
   "metadata": {},
   "source": [
    "<h3 style='text-align: center;'>Adding Order Purchase YEAR, MONTH, DAY, HOUR</h3>"
   ]
  },
  {
   "cell_type": "code",
   "execution_count": 34,
   "id": "c053008f",
   "metadata": {},
   "outputs": [],
   "source": [
    "df['order_purchase_date']=pd.to_datetime(df['order_purchase_timestamp'])\n",
    "df['order_purchase_date'] = df['order_purchase_date'].dt.strftime('%Y-%m-%d-%H')\n",
    "df['order_purchase_date'] = pd.to_datetime(df['order_purchase_date'])"
   ]
  },
  {
   "cell_type": "code",
   "execution_count": 35,
   "id": "673a4c30",
   "metadata": {},
   "outputs": [],
   "source": [
    "df['year'] = df['order_purchase_date'].dt.year\n",
    "df['month'] = df['order_purchase_date'].dt.strftime('%b')\n",
    "df['day'] = df['order_purchase_date'].dt.day\n",
    "df['hour'] = df['order_purchase_date'].dt.hour"
   ]
  },
  {
   "cell_type": "markdown",
   "id": "90beae1d",
   "metadata": {},
   "source": [
    "## UPDATED DATA FRAME RESULT"
   ]
  },
  {
   "cell_type": "code",
   "execution_count": 36,
   "id": "2e9a4576",
   "metadata": {},
   "outputs": [
    {
     "name": "stdout",
     "output_type": "stream",
     "text": [
      "<class 'pandas.core.frame.DataFrame'>\n",
      "Int64Index: 118434 entries, 0 to 118433\n",
      "Data columns (total 26 columns):\n",
      " #   Column                         Non-Null Count   Dtype         \n",
      "---  ------                         --------------   -----         \n",
      " 0   order_id                       118434 non-null  object        \n",
      " 1   customer_id                    118434 non-null  object        \n",
      " 2   order_status                   118434 non-null  object        \n",
      " 3   order_purchase_timestamp       118434 non-null  object        \n",
      " 4   order_item_id                  117604 non-null  float64       \n",
      " 5   product_id                     117604 non-null  object        \n",
      " 6   seller_id                      117604 non-null  object        \n",
      " 7   price                          117604 non-null  float64       \n",
      " 8   freight_value                  117604 non-null  float64       \n",
      " 9   payment_sequential             118431 non-null  float64       \n",
      " 10  payment_type                   118431 non-null  object        \n",
      " 11  payment_installments           118431 non-null  float64       \n",
      " 12  payment_value                  118431 non-null  float64       \n",
      " 13  product_category_name_english  115881 non-null  object        \n",
      " 14  customer_unique_id             118434 non-null  object        \n",
      " 15  customer_zip_code_prefix       118434 non-null  int64         \n",
      " 16  customer_city                  118434 non-null  object        \n",
      " 17  customer_state                 118434 non-null  object        \n",
      " 18  seller_zip_code_prefix         117604 non-null  float64       \n",
      " 19  seller_city                    117604 non-null  object        \n",
      " 20  seller_state                   117604 non-null  object        \n",
      " 21  order_purchase_date            118434 non-null  datetime64[ns]\n",
      " 22  year                           118434 non-null  int64         \n",
      " 23  month                          118434 non-null  object        \n",
      " 24  day                            118434 non-null  int64         \n",
      " 25  hour                           118434 non-null  int64         \n",
      "dtypes: datetime64[ns](1), float64(7), int64(4), object(14)\n",
      "memory usage: 24.4+ MB\n"
     ]
    }
   ],
   "source": [
    "df.info()"
   ]
  },
  {
   "cell_type": "markdown",
   "id": "7638eb05",
   "metadata": {},
   "source": [
    "# Determining Features"
   ]
  },
  {
   "cell_type": "code",
   "execution_count": 37,
   "id": "ecdba55b",
   "metadata": {},
   "outputs": [],
   "source": [
    "import numpy as np"
   ]
  },
  {
   "cell_type": "markdown",
   "id": "ee1e2137",
   "metadata": {},
   "source": [
    "<h3 style='text-align: center;'>Remove Irrelevant Columns</h3>"
   ]
  },
  {
   "cell_type": "code",
   "execution_count": 38,
   "id": "ae4fbd04",
   "metadata": {},
   "outputs": [],
   "source": [
    "exc = df.drop(\n",
    "    columns=[\n",
    "        'customer_id',\n",
    "        'order_id',\n",
    "        'order_purchase_timestamp',\n",
    "        'product_id',\n",
    "        'seller_id',\n",
    "        'customer_unique_id'\n",
    "    ],\n",
    "    axis=1\n",
    ")"
   ]
  },
  {
   "cell_type": "markdown",
   "id": "a35d5b42",
   "metadata": {},
   "source": [
    "<h3 style='text-align: center;'>11 Numerical Features</h3>"
   ]
  },
  {
   "cell_type": "code",
   "execution_count": 39,
   "id": "014ee7d8",
   "metadata": {},
   "outputs": [],
   "source": [
    "num_features = df.select_dtypes(exclude=[object]).columns"
   ]
  },
  {
   "cell_type": "code",
   "execution_count": 40,
   "id": "adafa979",
   "metadata": {},
   "outputs": [
    {
     "data": {
      "text/html": [
       "<div>\n",
       "<style scoped>\n",
       "    .dataframe tbody tr th:only-of-type {\n",
       "        vertical-align: middle;\n",
       "    }\n",
       "\n",
       "    .dataframe tbody tr th {\n",
       "        vertical-align: top;\n",
       "    }\n",
       "\n",
       "    .dataframe thead th {\n",
       "        text-align: right;\n",
       "    }\n",
       "</style>\n",
       "<table border=\"1\" class=\"dataframe\">\n",
       "  <thead>\n",
       "    <tr style=\"text-align: right;\">\n",
       "      <th></th>\n",
       "      <th>count</th>\n",
       "      <th>mean</th>\n",
       "      <th>std</th>\n",
       "      <th>min</th>\n",
       "      <th>25%</th>\n",
       "      <th>50%</th>\n",
       "      <th>75%</th>\n",
       "      <th>max</th>\n",
       "    </tr>\n",
       "  </thead>\n",
       "  <tbody>\n",
       "    <tr>\n",
       "      <th>order_item_id</th>\n",
       "      <td>117604.0</td>\n",
       "      <td>1.195920</td>\n",
       "      <td>0.697721</td>\n",
       "      <td>1.00</td>\n",
       "      <td>1.00</td>\n",
       "      <td>1.00</td>\n",
       "      <td>1.000</td>\n",
       "      <td>21.00</td>\n",
       "    </tr>\n",
       "    <tr>\n",
       "      <th>price</th>\n",
       "      <td>117604.0</td>\n",
       "      <td>120.822849</td>\n",
       "      <td>184.477367</td>\n",
       "      <td>0.85</td>\n",
       "      <td>39.90</td>\n",
       "      <td>74.90</td>\n",
       "      <td>134.900</td>\n",
       "      <td>6735.00</td>\n",
       "    </tr>\n",
       "    <tr>\n",
       "      <th>freight_value</th>\n",
       "      <td>117604.0</td>\n",
       "      <td>20.045551</td>\n",
       "      <td>15.861351</td>\n",
       "      <td>0.00</td>\n",
       "      <td>13.08</td>\n",
       "      <td>16.29</td>\n",
       "      <td>21.190</td>\n",
       "      <td>409.68</td>\n",
       "    </tr>\n",
       "    <tr>\n",
       "      <th>payment_sequential</th>\n",
       "      <td>118431.0</td>\n",
       "      <td>1.094207</td>\n",
       "      <td>0.728290</td>\n",
       "      <td>1.00</td>\n",
       "      <td>1.00</td>\n",
       "      <td>1.00</td>\n",
       "      <td>1.000</td>\n",
       "      <td>29.00</td>\n",
       "    </tr>\n",
       "    <tr>\n",
       "      <th>payment_installments</th>\n",
       "      <td>118431.0</td>\n",
       "      <td>2.937398</td>\n",
       "      <td>2.774164</td>\n",
       "      <td>0.00</td>\n",
       "      <td>1.00</td>\n",
       "      <td>2.00</td>\n",
       "      <td>4.000</td>\n",
       "      <td>24.00</td>\n",
       "    </tr>\n",
       "    <tr>\n",
       "      <th>payment_value</th>\n",
       "      <td>118431.0</td>\n",
       "      <td>172.849395</td>\n",
       "      <td>268.259831</td>\n",
       "      <td>0.00</td>\n",
       "      <td>60.86</td>\n",
       "      <td>108.20</td>\n",
       "      <td>189.245</td>\n",
       "      <td>13664.08</td>\n",
       "    </tr>\n",
       "    <tr>\n",
       "      <th>customer_zip_code_prefix</th>\n",
       "      <td>118434.0</td>\n",
       "      <td>35034.264392</td>\n",
       "      <td>29819.290218</td>\n",
       "      <td>1003.00</td>\n",
       "      <td>11310.00</td>\n",
       "      <td>24240.00</td>\n",
       "      <td>58464.500</td>\n",
       "      <td>99990.00</td>\n",
       "    </tr>\n",
       "    <tr>\n",
       "      <th>seller_zip_code_prefix</th>\n",
       "      <td>117604.0</td>\n",
       "      <td>24442.886483</td>\n",
       "      <td>27573.802989</td>\n",
       "      <td>1001.00</td>\n",
       "      <td>6429.00</td>\n",
       "      <td>13660.00</td>\n",
       "      <td>28035.000</td>\n",
       "      <td>99730.00</td>\n",
       "    </tr>\n",
       "    <tr>\n",
       "      <th>year</th>\n",
       "      <td>118434.0</td>\n",
       "      <td>2017.536324</td>\n",
       "      <td>0.505492</td>\n",
       "      <td>2016.00</td>\n",
       "      <td>2017.00</td>\n",
       "      <td>2018.00</td>\n",
       "      <td>2018.000</td>\n",
       "      <td>2018.00</td>\n",
       "    </tr>\n",
       "    <tr>\n",
       "      <th>day</th>\n",
       "      <td>118434.0</td>\n",
       "      <td>15.547393</td>\n",
       "      <td>8.668076</td>\n",
       "      <td>1.00</td>\n",
       "      <td>8.00</td>\n",
       "      <td>16.00</td>\n",
       "      <td>23.000</td>\n",
       "      <td>31.00</td>\n",
       "    </tr>\n",
       "    <tr>\n",
       "      <th>hour</th>\n",
       "      <td>118434.0</td>\n",
       "      <td>14.756050</td>\n",
       "      <td>5.327240</td>\n",
       "      <td>0.00</td>\n",
       "      <td>11.00</td>\n",
       "      <td>15.00</td>\n",
       "      <td>19.000</td>\n",
       "      <td>23.00</td>\n",
       "    </tr>\n",
       "  </tbody>\n",
       "</table>\n",
       "</div>"
      ],
      "text/plain": [
       "                             count          mean           std      min  \\\n",
       "order_item_id             117604.0      1.195920      0.697721     1.00   \n",
       "price                     117604.0    120.822849    184.477367     0.85   \n",
       "freight_value             117604.0     20.045551     15.861351     0.00   \n",
       "payment_sequential        118431.0      1.094207      0.728290     1.00   \n",
       "payment_installments      118431.0      2.937398      2.774164     0.00   \n",
       "payment_value             118431.0    172.849395    268.259831     0.00   \n",
       "customer_zip_code_prefix  118434.0  35034.264392  29819.290218  1003.00   \n",
       "seller_zip_code_prefix    117604.0  24442.886483  27573.802989  1001.00   \n",
       "year                      118434.0   2017.536324      0.505492  2016.00   \n",
       "day                       118434.0     15.547393      8.668076     1.00   \n",
       "hour                      118434.0     14.756050      5.327240     0.00   \n",
       "\n",
       "                               25%       50%        75%       max  \n",
       "order_item_id                 1.00      1.00      1.000     21.00  \n",
       "price                        39.90     74.90    134.900   6735.00  \n",
       "freight_value                13.08     16.29     21.190    409.68  \n",
       "payment_sequential            1.00      1.00      1.000     29.00  \n",
       "payment_installments          1.00      2.00      4.000     24.00  \n",
       "payment_value                60.86    108.20    189.245  13664.08  \n",
       "customer_zip_code_prefix  11310.00  24240.00  58464.500  99990.00  \n",
       "seller_zip_code_prefix     6429.00  13660.00  28035.000  99730.00  \n",
       "year                       2017.00   2018.00   2018.000   2018.00  \n",
       "day                           8.00     16.00     23.000     31.00  \n",
       "hour                         11.00     15.00     19.000     23.00  "
      ]
     },
     "execution_count": 40,
     "metadata": {},
     "output_type": "execute_result"
    }
   ],
   "source": [
    "df[num_features].describe().T"
   ]
  },
  {
   "cell_type": "markdown",
   "id": "fc9aa501",
   "metadata": {},
   "source": [
    "<h3 style='text-align: center;'>8 Categorical Features</h3>"
   ]
  },
  {
   "cell_type": "code",
   "execution_count": 41,
   "id": "d778f998",
   "metadata": {},
   "outputs": [],
   "source": [
    "cat_features = exc.select_dtypes(include=[object]).columns"
   ]
  },
  {
   "cell_type": "code",
   "execution_count": 42,
   "id": "7fad67b2",
   "metadata": {},
   "outputs": [
    {
     "data": {
      "text/html": [
       "<div>\n",
       "<style scoped>\n",
       "    .dataframe tbody tr th:only-of-type {\n",
       "        vertical-align: middle;\n",
       "    }\n",
       "\n",
       "    .dataframe tbody tr th {\n",
       "        vertical-align: top;\n",
       "    }\n",
       "\n",
       "    .dataframe thead th {\n",
       "        text-align: right;\n",
       "    }\n",
       "</style>\n",
       "<table border=\"1\" class=\"dataframe\">\n",
       "  <thead>\n",
       "    <tr style=\"text-align: right;\">\n",
       "      <th></th>\n",
       "      <th>count</th>\n",
       "      <th>unique</th>\n",
       "      <th>top</th>\n",
       "      <th>freq</th>\n",
       "    </tr>\n",
       "  </thead>\n",
       "  <tbody>\n",
       "    <tr>\n",
       "      <th>order_status</th>\n",
       "      <td>118434</td>\n",
       "      <td>8</td>\n",
       "      <td>delivered</td>\n",
       "      <td>115038</td>\n",
       "    </tr>\n",
       "    <tr>\n",
       "      <th>payment_type</th>\n",
       "      <td>118431</td>\n",
       "      <td>5</td>\n",
       "      <td>credit_card</td>\n",
       "      <td>87286</td>\n",
       "    </tr>\n",
       "    <tr>\n",
       "      <th>product_category_name_english</th>\n",
       "      <td>115881</td>\n",
       "      <td>71</td>\n",
       "      <td>bed_bath_table</td>\n",
       "      <td>11823</td>\n",
       "    </tr>\n",
       "    <tr>\n",
       "      <th>customer_city</th>\n",
       "      <td>118434</td>\n",
       "      <td>4119</td>\n",
       "      <td>sao paulo</td>\n",
       "      <td>18738</td>\n",
       "    </tr>\n",
       "    <tr>\n",
       "      <th>customer_state</th>\n",
       "      <td>118434</td>\n",
       "      <td>27</td>\n",
       "      <td>SP</td>\n",
       "      <td>49967</td>\n",
       "    </tr>\n",
       "    <tr>\n",
       "      <th>seller_city</th>\n",
       "      <td>117604</td>\n",
       "      <td>611</td>\n",
       "      <td>sao paulo</td>\n",
       "      <td>29157</td>\n",
       "    </tr>\n",
       "    <tr>\n",
       "      <th>seller_state</th>\n",
       "      <td>117604</td>\n",
       "      <td>23</td>\n",
       "      <td>SP</td>\n",
       "      <td>83854</td>\n",
       "    </tr>\n",
       "    <tr>\n",
       "      <th>month</th>\n",
       "      <td>118434</td>\n",
       "      <td>12</td>\n",
       "      <td>Aug</td>\n",
       "      <td>12745</td>\n",
       "    </tr>\n",
       "  </tbody>\n",
       "</table>\n",
       "</div>"
      ],
      "text/plain": [
       "                                count unique             top    freq\n",
       "order_status                   118434      8       delivered  115038\n",
       "payment_type                   118431      5     credit_card   87286\n",
       "product_category_name_english  115881     71  bed_bath_table   11823\n",
       "customer_city                  118434   4119       sao paulo   18738\n",
       "customer_state                 118434     27              SP   49967\n",
       "seller_city                    117604    611       sao paulo   29157\n",
       "seller_state                   117604     23              SP   83854\n",
       "month                          118434     12             Aug   12745"
      ]
     },
     "execution_count": 42,
     "metadata": {},
     "output_type": "execute_result"
    }
   ],
   "source": [
    "df[cat_features].describe().T"
   ]
  },
  {
   "cell_type": "markdown",
   "id": "19b530cf",
   "metadata": {},
   "source": [
    "<a id=\"3\"></a>\n",
    "<h1 style='text-align: right;'>Exploratory Data Analysis</h1>"
   ]
  },
  {
   "cell_type": "markdown",
   "id": "270fc92b",
   "metadata": {},
   "source": [
    "## 6. Geolocation"
   ]
  },
  {
   "cell_type": "markdown",
   "id": "fcff6006",
   "metadata": {},
   "source": [
    "<div style=\"display:flex\">\n",
    "  <div style=\"flex:30%\">\n",
    "    <img src=\"regions.jpg\" width=\"500\" height=\"500\">\n",
    "  </div>\n",
    "  <div style=\"flex:60%\">\n",
    "    <img src=\"states.jpg\">\n",
    "  </div>\n",
    "</div>"
   ]
  },
  {
   "cell_type": "code",
   "execution_count": 7,
   "id": "099123bc",
   "metadata": {},
   "outputs": [
    {
     "data": {
      "text/html": [
       "<div>\n",
       "<style scoped>\n",
       "    .dataframe tbody tr th:only-of-type {\n",
       "        vertical-align: middle;\n",
       "    }\n",
       "\n",
       "    .dataframe tbody tr th {\n",
       "        vertical-align: top;\n",
       "    }\n",
       "\n",
       "    .dataframe thead th {\n",
       "        text-align: right;\n",
       "    }\n",
       "</style>\n",
       "<table border=\"1\" class=\"dataframe\">\n",
       "  <thead>\n",
       "    <tr style=\"text-align: right;\">\n",
       "      <th></th>\n",
       "      <th>count</th>\n",
       "      <th>mean</th>\n",
       "      <th>std</th>\n",
       "      <th>min</th>\n",
       "      <th>25%</th>\n",
       "      <th>50%</th>\n",
       "      <th>75%</th>\n",
       "      <th>max</th>\n",
       "    </tr>\n",
       "  </thead>\n",
       "  <tbody>\n",
       "    <tr>\n",
       "      <th>geolocation_zip_code_prefix</th>\n",
       "      <td>19015.0</td>\n",
       "      <td>52.598633</td>\n",
       "      <td>72.057907</td>\n",
       "      <td>1.0</td>\n",
       "      <td>10.0</td>\n",
       "      <td>29.0</td>\n",
       "      <td>66.5</td>\n",
       "      <td>1146.0</td>\n",
       "    </tr>\n",
       "  </tbody>\n",
       "</table>\n",
       "</div>"
      ],
      "text/plain": [
       "                               count       mean        std  min   25%   50%  \\\n",
       "geolocation_zip_code_prefix  19015.0  52.598633  72.057907  1.0  10.0  29.0   \n",
       "\n",
       "                              75%     max  \n",
       "geolocation_zip_code_prefix  66.5  1146.0  "
      ]
     },
     "execution_count": 7,
     "metadata": {},
     "output_type": "execute_result"
    }
   ],
   "source": [
    "geo['geolocation_zip_code_prefix'].value_counts().to_frame().describe().T"
   ]
  },
  {
   "cell_type": "markdown",
   "id": "4243fed9",
   "metadata": {},
   "source": [
    "findings\n",
    "\n",
    "There are 19.015 different zip_code_prefix. On average there are 52.6 coordinates for each prefix. But there is one prefix with 1.146 coordinates available."
   ]
  },
  {
   "cell_type": "code",
   "execution_count": null,
   "id": "5c83e3bc",
   "metadata": {},
   "outputs": [],
   "source": []
  },
  {
   "cell_type": "code",
   "execution_count": null,
   "id": "af79f4a1",
   "metadata": {},
   "outputs": [],
   "source": []
  },
  {
   "cell_type": "code",
   "execution_count": null,
   "id": "eed6ca8d",
   "metadata": {},
   "outputs": [],
   "source": []
  },
  {
   "cell_type": "code",
   "execution_count": null,
   "id": "bd67397c",
   "metadata": {},
   "outputs": [],
   "source": []
  },
  {
   "cell_type": "code",
   "execution_count": null,
   "id": "37f19979",
   "metadata": {},
   "outputs": [],
   "source": [
    "import pyproj\n",
    "\n",
    "# Define the input and output coordinate reference systems\n",
    "in_crs = pyproj.CRS('EPSG:4326') # WGS84\n",
    "out_crs = pyproj.CRS('EPSG:3857') # Web Mercator\n",
    "\n",
    "# Create a transformer object to convert coordinates from input to output CRS\n",
    "transformer = pyproj.Transformer.from_crs(in_crs, out_crs, always_xy=True)\n",
    "\n",
    "# Convert latitude and longitude coordinates to Web Mercator meters\n",
    "x, y = transformer.transform(geo.geolocation_lng.values, geo.geolocation_lat.values)\n",
    "\n",
    "# Add the x and y coordinates to the DataFrame\n",
    "geo['x'] = x\n",
    "geo['y'] = y"
   ]
  },
  {
   "cell_type": "code",
   "execution_count": null,
   "id": "1bc3b343",
   "metadata": {},
   "outputs": [],
   "source": []
  },
  {
   "cell_type": "code",
   "execution_count": null,
   "id": "b9e57b7c",
   "metadata": {},
   "outputs": [],
   "source": []
  },
  {
   "cell_type": "code",
   "execution_count": null,
   "id": "415a1939",
   "metadata": {},
   "outputs": [],
   "source": []
  },
  {
   "cell_type": "code",
   "execution_count": null,
   "id": "ecc15cb9",
   "metadata": {},
   "outputs": [],
   "source": []
  },
  {
   "cell_type": "code",
   "execution_count": null,
   "id": "e72d8045",
   "metadata": {},
   "outputs": [],
   "source": []
  },
  {
   "cell_type": "code",
   "execution_count": 44,
   "id": "d65ff875",
   "metadata": {},
   "outputs": [],
   "source": [
    "# import os\n",
    "# import conda\n",
    "# import matplotlib.pyplot as plt\n",
    "# from mpl_toolkits.basemap import Basemap"
   ]
  },
  {
   "cell_type": "code",
   "execution_count": 45,
   "id": "a9e9402b",
   "metadata": {},
   "outputs": [],
   "source": [
    "# lat = geolocation['geolocation_lat']\n",
    "# lon = geolocation['geolocation_lng']"
   ]
  },
  {
   "cell_type": "code",
   "execution_count": 46,
   "id": "1bd44617",
   "metadata": {},
   "outputs": [],
   "source": [
    "# m = Basemap(llcrnrlat=-55.401805,\n",
    "#             llcrnrlon=-92.269176,\n",
    "#             urcrnrlat=13.884615,\n",
    "#             urcrnrlon=-27.581676,\n",
    "#             resolution='i'\n",
    "#            )"
   ]
  },
  {
   "cell_type": "code",
   "execution_count": 47,
   "id": "d9772d60",
   "metadata": {},
   "outputs": [
    {
     "data": {
      "image/png": "[encoded data removed]",
      "text/plain": [
       "<Figure size 800x800 with 1 Axes>"
      ]
     },
     "metadata": {},
     "output_type": "display_data"
    }
   ],
   "source": [
    "# plt.figure(figsize=(8,8))\n",
    "\n",
    "# m.bluemarble()\n",
    "# m.drawmapboundary(fill_color='#46bcec')\n",
    "# m.fillcontinents(color='#f2f2f2',lake_color='#46bcec')\n",
    "# m.drawcoastlines(linewidth=1)\n",
    "# m.drawcountries(linewidth=1)\n",
    "# m.scatter(lon, lat, zorder=5, alpha=0.7, color='red', s=10)\n",
    "\n",
    "# # Add a title to the plot\n",
    "# plt.title('Geolocation in Brazil')\n",
    "# plt.show()"
   ]
  },
  {
   "cell_type": "markdown",
   "id": "38140c10",
   "metadata": {},
   "source": [
    "<h3 style='text-align: center;'>Geolocation Insights</h3>\n",
    "\n",
    "The map above displays the geographic distribution of purchased product orders across Brazil, highlighting that the highest shopping rates for **Olist's E-Commerce** platform are concentrated in :\n",
    "\n",
    "1. **Eastern** and **Northeastern** regions, including states such as **Rio Grande do Norte, Paraíba, Pernambuco, Alagoas, Sergipe, Bahia**, and **Piauí**. \n",
    "2. Followed by the **Southeastern** region, with cities such as **São Paulo** and **Rio de Janeiro**.\n",
    "3. **Northern** region, with cities such as **Belém** and **Manaus**."
   ]
  }
 ],
 "metadata": {
  "kernelspec": {
   "display_name": "Python 3 (ipykernel)",
   "language": "python",
   "name": "python3"
  },
  "language_info": {
   "codemirror_mode": {
    "name": "ipython",
    "version": 3
   },
   "file_extension": ".py",
   "mimetype": "text/x-python",
   "name": "python",
   "nbconvert_exporter": "python",
   "pygments_lexer": "ipython3",
   "version": "3.9.13"
  }
 },
 "nbformat": 4,
 "nbformat_minor": 5
}
