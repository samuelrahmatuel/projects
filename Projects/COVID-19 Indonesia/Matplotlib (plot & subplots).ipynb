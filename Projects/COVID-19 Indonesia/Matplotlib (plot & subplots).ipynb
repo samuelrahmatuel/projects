{
 "cells": [
  {
   "cell_type": "code",
   "execution_count": null,
   "id": "2ae03ff1",
   "metadata": {},
   "outputs": [],
   "source": [
    "import pandas as pd\n",
    "import matplotlib.pyplot as plt\n",
    "import seaborn as sns\n",
    "import datetime as dt"
   ]
  },
  {
   "cell_type": "code",
   "execution_count": null,
   "id": "155cd19d",
   "metadata": {},
   "outputs": [],
   "source": [
    "df = pd.read_csv('covid_19_indonesia_time_series_all.csv')\n",
    "df.head()"
   ]
  },
  {
   "cell_type": "code",
   "execution_count": null,
   "id": "202ee30f",
   "metadata": {},
   "outputs": [],
   "source": [
    "df.info()"
   ]
  },
  {
   "cell_type": "code",
   "execution_count": null,
   "id": "805e6e88",
   "metadata": {},
   "outputs": [],
   "source": [
    "df['Date'] = pd.to_datetime(df['Date'])\n",
    "df.info()"
   ]
  },
  {
   "cell_type": "code",
   "execution_count": null,
   "id": "09a249e7",
   "metadata": {
    "scrolled": true
   },
   "outputs": [],
   "source": [
    "df['Month-Year'] = df['Date'].dt.to_period('M')\n",
    "df.head()"
   ]
  },
  {
   "cell_type": "code",
   "execution_count": null,
   "id": "4ff3b7da",
   "metadata": {},
   "outputs": [],
   "source": [
    "df['Month-Year'].nunique()"
   ]
  },
  {
   "cell_type": "code",
   "execution_count": null,
   "id": "f0f1b5f6",
   "metadata": {
    "scrolled": false
   },
   "outputs": [],
   "source": [
    "grouped = df.groupby('Month-Year')[['Total Deaths', \n",
    "                                    'Total Recovered', \n",
    "                                    'Total Active Cases']].median().reset_index()\n",
    "grouped"
   ]
  },
  {
   "cell_type": "code",
   "execution_count": null,
   "id": "73125056",
   "metadata": {},
   "outputs": [],
   "source": [
    "grouped['Month-Year'] = grouped['Month-Year'].astype('str')"
   ]
  },
  {
   "cell_type": "code",
   "execution_count": null,
   "id": "0ec50756",
   "metadata": {},
   "outputs": [],
   "source": [
    "grouped.info()"
   ]
  },
  {
   "cell_type": "code",
   "execution_count": null,
   "id": "de653721",
   "metadata": {},
   "outputs": [],
   "source": [
    "plt.plot(grouped['Month-Year'], grouped['Total Deaths'])\n",
    "plt.show()"
   ]
  },
  {
   "cell_type": "code",
   "execution_count": null,
   "id": "70cbf493",
   "metadata": {},
   "outputs": [],
   "source": [
    "plt.plot(grouped['Month-Year'], grouped['Total Deaths'])\n",
    "plt.title(\"Deaths, Recovered & Active Cases of Covid 2019\")\n",
    "plt.xlabel('Year-Month')\n",
    "plt.ylabel('Victims')\n",
    "plt.show()"
   ]
  },
  {
   "cell_type": "code",
   "execution_count": null,
   "id": "4f617211",
   "metadata": {},
   "outputs": [],
   "source": [
    "plt.plot(grouped['Month-Year'], grouped['Total Deaths'])\n",
    "plt.title(\"Deaths, Recovered & Active Cases of Covid 2019\")\n",
    "plt.xlabel('Year-Month')\n",
    "plt.ylabel('Victims')\n",
    "plt.xticks(rotation=90)\n",
    "plt.show()"
   ]
  },
  {
   "cell_type": "code",
   "execution_count": null,
   "id": "ee783ac0",
   "metadata": {},
   "outputs": [],
   "source": [
    "plt.plot(grouped['Month-Year'], grouped['Total Deaths'])\n",
    "plt.plot(grouped['Month-Year'], grouped['Total Recovered'])\n",
    "plt.plot(grouped['Month-Year'], grouped['Total Active Cases'])\n",
    "plt.title(\"Deaths, Recovered & Active Cases of Covid 2019\")\n",
    "plt.xlabel('Year-Month')\n",
    "plt.ylabel('Victims')\n",
    "plt.xticks(rotation=90)\n",
    "plt.show()"
   ]
  },
  {
   "cell_type": "code",
   "execution_count": null,
   "id": "aab9088d",
   "metadata": {},
   "outputs": [],
   "source": [
    "plt.plot(grouped['Month-Year'], grouped['Total Deaths'])\n",
    "plt.plot(grouped['Month-Year'], grouped['Total Recovered'])\n",
    "plt.plot(grouped['Month-Year'], grouped['Total Active Cases'])\n",
    "plt.title(\"Deaths, Recovered & Active Cases of Covid 2019\")\n",
    "plt.xlabel('Year-Month')\n",
    "plt.ylabel('Victims')\n",
    "plt.xticks(rotation=90)\n",
    "plt.legend(['Total Deaths', 'Total Recovered', 'Total Active Cases'])\n",
    "plt.show()"
   ]
  },
  {
   "cell_type": "code",
   "execution_count": null,
   "id": "2cc2ff64",
   "metadata": {},
   "outputs": [],
   "source": [
    "plt.plot(grouped['Month-Year'], grouped['Total Deaths'], \n",
    "         label='Total Deaths')\n",
    "plt.plot(grouped['Month-Year'], grouped['Total Recovered'], \n",
    "         label='Total Recovered')\n",
    "plt.plot(grouped['Month-Year'], grouped['Total Active Cases'], \n",
    "         label='Total Active Cases')\n",
    "plt.title(\"Deaths, Recovered & Active Cases of Covid 2019\")\n",
    "plt.xlabel('Year-Month')\n",
    "plt.ylabel('Victims')\n",
    "plt.xticks(rotation=90)\n",
    "plt.legend()\n",
    "plt.show()"
   ]
  },
  {
   "cell_type": "code",
   "execution_count": null,
   "id": "44ececb6",
   "metadata": {},
   "outputs": [],
   "source": [
    "plt.plot(grouped['Month-Year'], grouped['Total Deaths'], '--k',\n",
    "         label='Total Deaths')\n",
    "plt.plot(grouped['Month-Year'], grouped['Total Recovered'], 'm',\n",
    "         label='Total Recovered')\n",
    "plt.plot(grouped['Month-Year'], grouped['Total Active Cases'], \n",
    "         label='Total Active Cases')\n",
    "plt.title(\"Deaths, Recovered & Active Cases of Covid 2019\")\n",
    "plt.xlabel('Year-Month')\n",
    "plt.ylabel('Victims')\n",
    "plt.xticks(rotation=90)\n",
    "plt.legend()\n",
    "plt.show()"
   ]
  },
  {
   "cell_type": "code",
   "execution_count": null,
   "id": "97937485",
   "metadata": {},
   "outputs": [],
   "source": [
    "plt.plot(grouped['Month-Year'], grouped['Total Deaths'], linestyle='--', color='#FDA769',\n",
    "         label='Total Deaths')\n",
    "plt.plot(grouped['Month-Year'], grouped['Total Recovered'], color= '#1F8A70',\n",
    "         label='Total Recovered')\n",
    "plt.plot(grouped['Month-Year'], grouped['Total Active Cases'], \n",
    "         label='Total Active Cases')\n",
    "plt.title(\"Deaths, Recovered & Active Cases of Covid 2019\")\n",
    "plt.xlabel('Year-Month')\n",
    "plt.ylabel('Victims')\n",
    "plt.xticks(rotation=90)\n",
    "plt.legend()\n",
    "plt.show()"
   ]
  },
  {
   "cell_type": "code",
   "execution_count": null,
   "id": "60ca830d",
   "metadata": {},
   "outputs": [],
   "source": [
    "plt.plot(grouped['Month-Year'], grouped['Total Deaths'], linestyle='--', color='#FDA769',\n",
    "         label='Total Deaths', linewidth=3)\n",
    "plt.plot(grouped['Month-Year'], grouped['Total Recovered'], color= '#1F8A70',\n",
    "         label='Total Recovered', linewidth=4)\n",
    "plt.plot(grouped['Month-Year'], grouped['Total Active Cases'], \n",
    "         label='Total Active Cases')\n",
    "plt.title(\"Deaths, Recovered & Active Cases of Covid 2019\")\n",
    "plt.xlabel('Year-Month')\n",
    "plt.ylabel('Victims')\n",
    "plt.xticks(rotation=90)\n",
    "plt.legend()\n",
    "plt.show()"
   ]
  },
  {
   "cell_type": "code",
   "execution_count": null,
   "id": "cef59a73",
   "metadata": {},
   "outputs": [],
   "source": [
    "plt.plot(grouped['Month-Year'], grouped['Total Deaths'], linestyle='--', color='#FDA769',\n",
    "         label='Total Deaths', linewidth=3)\n",
    "plt.plot(grouped['Month-Year'], grouped['Total Recovered'], color= '#1F8A70',\n",
    "         label='Total Recovered', linewidth=4)\n",
    "plt.plot(grouped['Month-Year'], grouped['Total Active Cases'], \n",
    "         label='Total Active Cases')\n",
    "plt.title(\"Deaths, Recovered & Active Cases of Covid 2019\")\n",
    "plt.xlabel('Year-Month')\n",
    "plt.ylabel('Victims')\n",
    "plt.xticks(rotation=90)\n",
    "plt.legend()\n",
    "plt.tight_layout()\n",
    "plt.show()"
   ]
  },
  {
   "cell_type": "code",
   "execution_count": null,
   "id": "81f4373b",
   "metadata": {},
   "outputs": [],
   "source": [
    "plt.plot(grouped['Month-Year'], grouped['Total Deaths'], linestyle='--', color='#FDA769',\n",
    "         label='Total Deaths', linewidth=3)\n",
    "plt.plot(grouped['Month-Year'], grouped['Total Recovered'], color= '#1F8A70',\n",
    "         label='Total Recovered', linewidth=4)\n",
    "plt.plot(grouped['Month-Year'], grouped['Total Active Cases'], \n",
    "         label='Total Active Cases')\n",
    "plt.title(\"Deaths, Recovered & Active Cases of Covid 2019\")\n",
    "plt.xlabel('Year-Month')\n",
    "plt.ylabel('Victims')\n",
    "plt.xticks(rotation=90)\n",
    "plt.legend()\n",
    "plt.grid()\n",
    "plt.show()"
   ]
  },
  {
   "cell_type": "code",
   "execution_count": null,
   "id": "534fc973",
   "metadata": {},
   "outputs": [],
   "source": [
    "# plt.style.use('fivethirtyeight')"
   ]
  },
  {
   "cell_type": "code",
   "execution_count": null,
   "id": "7820748c",
   "metadata": {},
   "outputs": [],
   "source": [
    "print(plt.style.available)"
   ]
  },
  {
   "cell_type": "code",
   "execution_count": null,
   "id": "6c0cb4cc",
   "metadata": {},
   "outputs": [],
   "source": [
    "plt.plot(grouped['Month-Year'], grouped['Total Deaths'],\n",
    "         label='Total Deaths')\n",
    "plt.plot(grouped['Month-Year'], grouped['Total Recovered'],\n",
    "         label='Total Recovered')\n",
    "plt.plot(grouped['Month-Year'], grouped['Total Active Cases'], \n",
    "         label='Total Active Cases')\n",
    "plt.title(\"Deaths, Recovered & Active Cases of Covid 2019\")\n",
    "plt.xlabel('Year-Month')\n",
    "plt.ylabel('Victims')\n",
    "plt.xticks(rotation=90)\n",
    "plt.legend()\n",
    "# plt.grid()\n",
    "plt.show()"
   ]
  },
  {
   "cell_type": "code",
   "execution_count": null,
   "id": "cabbbdce",
   "metadata": {},
   "outputs": [],
   "source": [
    "plt.plot(grouped['Month-Year'], grouped['Total Deaths'],\n",
    "         label='Total Deaths')\n",
    "plt.plot(grouped['Month-Year'], grouped['Total Recovered'],\n",
    "         label='Total Recovered')\n",
    "plt.plot(grouped['Month-Year'], grouped['Total Active Cases'], \n",
    "         label='Total Active Cases')\n",
    "plt.title(\"Deaths, Recovered & Active Cases of Covid 2019\")\n",
    "plt.xlabel('Year-Month')\n",
    "plt.ylabel('Victims')\n",
    "plt.xticks(rotation=90)\n",
    "plt.legend()\n",
    "# plt.grid()\n",
    "plt.show()"
   ]
  },
  {
   "cell_type": "code",
   "execution_count": null,
   "id": "f9622712",
   "metadata": {},
   "outputs": [],
   "source": [
    "plt.plot(grouped['Month-Year'], grouped['Total Deaths'],\n",
    "         label='Total Deaths')\n",
    "plt.plot(grouped['Month-Year'], grouped['Total Recovered'],\n",
    "         label='Total Recovered')\n",
    "plt.plot(grouped['Month-Year'], grouped['Total Active Cases'], \n",
    "         label='Total Active Cases')\n",
    "plt.title(\"Deaths, Recovered & Active Cases of Covid 2019\")\n",
    "plt.xlabel('Year-Month')\n",
    "plt.ylabel('Victims')\n",
    "plt.xticks(rotation=90)\n",
    "plt.legend()\n",
    "# plt.grid()\n",
    "plt.savefig('test.png')\n",
    "plt.show()"
   ]
  },
  {
   "cell_type": "code",
   "execution_count": null,
   "id": "15b0c58a",
   "metadata": {},
   "outputs": [],
   "source": [
    "fig, (ax1, ax2) = plt.subplots(ncols=1, nrows= 2, figsize=(7,4))\n",
    "ax1.plot(grouped['Month-Year'], grouped['Total Recovered'],\n",
    "         label='Total Recovered')\n",
    "ax1.set_title(\"Deaths, Recovered & Active Cases of Covid 2019\")\n",
    "ax1.set_xlabel('Year-Month')\n",
    "ax1.set_ylabel('Victims')\n",
    "ax1.tick_params(rotation=90)\n",
    "\n",
    "ax2.plot(grouped['Month-Year'], grouped['Total Deaths'],\n",
    "         label='Total Deaths')\n",
    "ax2.plot(grouped['Month-Year'], grouped['Total Active Cases'], \n",
    "         label='Total Active Cases')\n",
    "ax2.set_title(\"Deaths, Recovered & Active Cases of Covid 2019\")\n",
    "ax2.set_xlabel('Year-Month')\n",
    "ax2.set_ylabel('Victims')\n",
    "ax2.tick_params(rotation=90)\n",
    "plt.legend()\n",
    "# plt.grid()\n",
    "# plt.savefig('test.png')\n",
    "plt.show()"
   ]
  },
  {
   "cell_type": "code",
   "execution_count": null,
   "id": "b03c0732",
   "metadata": {},
   "outputs": [],
   "source": [
    "fig, (ax1, ax2) = plt.subplots(ncols=1, nrows= 2, figsize=(6,8))\n",
    "ax1.plot(grouped['Month-Year'], grouped['Total Recovered'],\n",
    "         label='Total Recovered')\n",
    "ax1.set_title(\"Deaths, Recovered & Active Cases of Covid 2019\")\n",
    "ax1.set_xlabel('Year-Month')\n",
    "ax1.set_ylabel('Victims')\n",
    "ax1.tick_params(rotation=90)\n",
    "\n",
    "ax2.plot(grouped['Month-Year'], grouped['Total Deaths'],\n",
    "         label='Total Deaths')\n",
    "ax2.plot(grouped['Month-Year'], grouped['Total Active Cases'], \n",
    "         label='Total Active Cases')\n",
    "ax2.set_title(\"Deaths, Recovered & Active Cases of Covid 2019\")\n",
    "ax2.set_xlabel('Year-Month')\n",
    "ax2.set_ylabel('Victims')\n",
    "ax2.tick_params(rotation=90)\n",
    "plt.legend()\n",
    "# plt.grid()\n",
    "# plt.savefig('test.png')\n",
    "plt.tight_layout()\n",
    "plt.show()"
   ]
  },
  {
   "cell_type": "code",
   "execution_count": null,
   "id": "66ae2069",
   "metadata": {},
   "outputs": [],
   "source": [
    "fig, (ax1, ax2) = plt.subplots(ncols=1, nrows= 2, figsize=(6,8))\n",
    "ax1.plot(grouped['Month-Year'], grouped['Total Recovered'],\n",
    "         label='Total Recovered')\n",
    "ax1.set_title(\"Deaths, Recovered & Active Cases of Covid 2019\")\n",
    "ax1.set_xlabel('Year-Month')\n",
    "ax1.set_ylabel('Victims')\n",
    "ax1.tick_params(axis= 'x', rotation=90)\n",
    "\n",
    "ax2.plot(grouped['Month-Year'], grouped['Total Deaths'],\n",
    "         label='Total Deaths')\n",
    "ax2.plot(grouped['Month-Year'], grouped['Total Active Cases'], \n",
    "         label='Total Active Cases')\n",
    "ax2.set_title(\"Deaths, Recovered & Active Cases of Covid 2019\")\n",
    "ax2.set_xlabel('Year-Month')\n",
    "ax2.set_ylabel('Victims')\n",
    "ax2.tick_params(axis='x', rotation=90)\n",
    "plt.legend()\n",
    "# plt.grid()\n",
    "# plt.savefig('test.png')\n",
    "plt.tight_layout()\n",
    "plt.show()"
   ]
  },
  {
   "cell_type": "code",
   "execution_count": null,
   "id": "e6b05077",
   "metadata": {},
   "outputs": [],
   "source": [
    "fig, (ax1, ax2) = plt.subplots(ncols=1, nrows= 2, figsize=(6,8), sharex=True)\n",
    "ax1.plot(grouped['Month-Year'], grouped['Total Recovered'],\n",
    "         label='Total Recovered')\n",
    "ax1.set_title(\"Deaths, Recovered & Active Cases of Covid 2019\")\n",
    "ax1.set_xlabel('Year-Month')\n",
    "ax1.set_ylabel('Victims')\n",
    "ax1.tick_params(axis= 'x', rotation=90)\n",
    "\n",
    "ax2.plot(grouped['Month-Year'], grouped['Total Deaths'],\n",
    "         label='Total Deaths')\n",
    "ax2.plot(grouped['Month-Year'], grouped['Total Active Cases'], \n",
    "         label='Total Active Cases')\n",
    "# ax2.set_title(\"Deaths, Recovered & Active Cases of Covid 2019\")\n",
    "ax2.set_xlabel('Year-Month')\n",
    "ax2.set_ylabel('Victims')\n",
    "ax2.tick_params(axis='x', rotation=90)\n",
    "plt.legend()\n",
    "# plt.grid()\n",
    "plt.savefig('contoh.png')\n",
    "plt.tight_layout()\n",
    "plt.show()"
   ]
  }
 ],
 "metadata": {
  "kernelspec": {
   "display_name": "Python 3 (ipykernel)",
   "language": "python",
   "name": "python3"
  },
  "language_info": {
   "codemirror_mode": {
    "name": "ipython",
    "version": 3
   },
   "file_extension": ".py",
   "mimetype": "text/x-python",
   "name": "python",
   "nbconvert_exporter": "python",
   "pygments_lexer": "ipython3",
   "version": "3.9.13"
  }
 },
 "nbformat": 4,
 "nbformat_minor": 5
}
