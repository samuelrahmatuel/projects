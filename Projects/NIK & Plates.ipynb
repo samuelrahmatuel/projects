{
 "cells": [
  {
   "cell_type": "markdown",
   "metadata": {},
   "source": [
    "> this little project was made by [Rahmatuel Samuel](https://rahmatuelsamuel.com)"
   ]
  },
  {
   "cell_type": "markdown",
   "metadata": {
    "id": "GiSBqj_WZdLr"
   },
   "source": [
    "# NIK CHECKER"
   ]
  },
  {
   "cell_type": "code",
   "execution_count": null,
   "metadata": {},
   "outputs": [],
   "source": [
    "import datetime\n",
    "\n",
    "def data_nik(nik):\n",
    "    nik_str = str(nik)\n",
    "    year = int(\"19\" + nik_str[10:12]) if int(nik_str[10:12]) >= 45 else int(\"20\" + nik_str[10:12])\n",
    "    if year < 1945 or year > 2024:\n",
    "        return \"Tanggal lahir tidak valid\"\n",
    "    if int(nik_str[6:8]) <= 40:\n",
    "        day = int(nik_str[6:8])\n",
    "        month = int(nik_str[8:10])\n",
    "        gender = \"Pria\"\n",
    "    else:\n",
    "        day = int(nik_str[6:8]) - 40\n",
    "        month = int(nik_str[8:10])\n",
    "        gender = \"Perempuan\"\n",
    "    if month < 1 or month > 12:\n",
    "        return \"Tanggal lahir tidak valid\"\n",
    "    if day < 1 or day > 31:\n",
    "        return \"Tanggal lahir tidak valid\"\n",
    "# define birthdate,today,age\n",
    "    birth_date = datetime.date(year, month, day)\n",
    "    today = datetime.date.today()\n",
    "    age = today.year - birth_date.year - ((today.month, today.day) < (birth_date.month, birth_date.day))\n",
    "    return f\"Jenis Kelamin : {gender}\\nUmur : {age} Tahun\""
   ]
  },
  {
   "cell_type": "code",
   "execution_count": null,
   "metadata": {
    "scrolled": true
   },
   "outputs": [],
   "source": [
    "nik = int(input(\"Nomor Induk Kependudukan: \"))\n",
    "print(data_nik(nik))"
   ]
  },
  {
   "cell_type": "markdown",
   "metadata": {
    "id": "eyzzIy7tZlYE"
   },
   "source": [
    "# CHECKING LIST OF DATA"
   ]
  },
  {
   "cell_type": "code",
   "execution_count": null,
   "metadata": {
    "id": "Qhi0HzspZsN7"
   },
   "outputs": [],
   "source": [
    "# data dummy\n",
    "data_nik_dummy = ['3172042211950004', '3174070505970002', '3172046409000007', '3172040603060005', '3172042106610002',  '3172467001210009', '3172205712220001', '3172062107130008', '3172465210820007', '3172462102900004']\n",
    "\n",
    "# define nilai awal start dari 0\n",
    "jumlah_data = 0\n",
    "jumlah_pria = 0\n",
    "jumlah_perempuan = 0\n",
    "jumlah_cipung = 0\n",
    "jumlah_bocil = 0\n",
    "jumlah_abg = 0\n",
    "jumlah_golden_era = 0\n",
    "jumlah_tenaga_abis = 0\n",
    "jumlah_pasrah = 0\n",
    "\n",
    "# Checking nik secara iterasi\n",
    "for nik in data_nik_dummy:\n",
    "    result = data_nik(nik)\n",
    "    if result == \"Tanggal lahir tidak valid\":\n",
    "        continue\n",
    "    jumlah_data += 1\n",
    "    if \"Pria\" in result:\n",
    "        jumlah_pria += 1\n",
    "    else:\n",
    "        jumlah_perempuan += 1\n",
    "        \n",
    "# define pengambilan data untuk year dan age  \n",
    "    year = result.split(\"\\n\")[1].split(\" \")[2]\n",
    "    age = int(year) # cast ke interger\n",
    "\n",
    "    if age <= 5:\n",
    "        jumlah_cipung += 1\n",
    "    elif age <= 15:\n",
    "        jumlah_bocil += 1\n",
    "    elif age <= 24:\n",
    "        jumlah_abg += 1\n",
    "    elif age <= 50:\n",
    "        jumlah_golden_era += 1\n",
    "    elif age <= 60:\n",
    "        jumlah_tenaga_abis += 1\n",
    "    else:\n",
    "        jumlah_pasrah += 1"
   ]
  },
  {
   "cell_type": "code",
   "execution_count": null,
   "metadata": {},
   "outputs": [],
   "source": [
    "# Display as needed\n",
    "print (f\"Jumlah Data NIK yang tersedia : \",jumlah_data)\n",
    "print (f\"Jumlah Pria : \",jumlah_pria)\n",
    "print (f\"Jumlah Wanita : \",jumlah_perempuan)\n",
    "print (f\"Jumlah Balita (0-5 Tahun) : \",jumlah_cipung)\n",
    "print (f\"Jumlah Anak Kecil (6-15 Tahun) : \",jumlah_bocil)\n",
    "print (f\"Jumlah Remaja (16-24 Tahun) : \",jumlah_abg)\n",
    "print (f\"Jumlah Masa Produktif (25-50 Tahun) : \",jumlah_golden_era)\n",
    "print (f\"Jumlah Pensiun (50-60 Tahun) : \",jumlah_tenaga_abis)\n",
    "print (f\"Jumlah Lansia (60 Tahun Keatas) : \",jumlah_pasrah)"
   ]
  },
  {
   "cell_type": "markdown",
   "metadata": {
    "id": "ci04gtb2ZxjF"
   },
   "source": [
    "# PLATES NUMBER GENERATOR"
   ]
  },
  {
   "cell_type": "code",
   "execution_count": null,
   "metadata": {
    "id": "1d7dN9VwZ2dK"
   },
   "outputs": [],
   "source": [
    "import random\n",
    "\n",
    "def plat_nomor_acak (N):\n",
    "    \n",
    "    karakter = \"0123456789ABCDEFGHIJKLMNOPQRSTUVWXYZ\" # define karakternya\n",
    "    result = [] # hasil dalam bentuk list\n",
    "    \n",
    "    for i in range (N):\n",
    "        huruf_pertama = random.choice(karakter[10:]) # define ABCD..Z\n",
    "        angka_ditengah = \"\".join([random.choice(karakter[:10]) for j in range(4)]) # define 10 karakter dari depan sebanyak 4 angka\n",
    "        tiga_huruf_akhir = \"\".join([random.choice(karakter[10:]) for j in range(3)]) # define ABCD..Z sebanyak 3\n",
    "        result.append(huruf_pertama + \" \" + angka_ditengah + \" \" + tiga_huruf_akhir) # concate spasi\n",
    "        \n",
    "    return result"
   ]
  },
  {
   "cell_type": "code",
   "execution_count": null,
   "metadata": {},
   "outputs": [],
   "source": [
    "N = int(input(\"Mau berapa plat nomor ? \"))\n",
    "plat_nomor = plat_nomor_acak (N)\n",
    "\n",
    "print (\"Nih\", N, \"Plat Nomor Cuman Buat Kamu\")\n",
    "print (\"-----------------------------\")\n",
    "print (plat_nomor)"
   ]
  },
  {
   "cell_type": "markdown",
   "metadata": {
    "id": "9Mn5VEZuZ3Q0"
   },
   "source": [
    "# PLATES NUMBER ODD OR EVEN CHECKER"
   ]
  },
  {
   "cell_type": "code",
   "execution_count": null,
   "metadata": {},
   "outputs": [],
   "source": [
    "def ganjil_genap(nomor_plat):\n",
    "    number = int(nomor_plat[1:5])\n",
    "    if number % 2 == 0: # jika habis dibagi 2 maka genap selain itu ganjil\n",
    "        return nomor_plat + \" itu Plat Genap\"\n",
    "    else:\n",
    "        return nomor_plat + \" itu Plat Ganjil\""
   ]
  },
  {
   "cell_type": "code",
   "execution_count": null,
   "metadata": {},
   "outputs": [],
   "source": [
    "print (\"Mau ngasitau kalau \")\n",
    "print (\"-------------------\")\n",
    "\n",
    "for nomor_plat in plat_nomor:\n",
    "    print (ganjil_genap(nomor_plat))\n",
    "    \n",
    "print (\"-------------------\")\n",
    "print (\"Jadi beli engga ? Jangan nanya doang hehe \")"
   ]
  }
 ],
 "metadata": {
  "colab": {
   "provenance": []
  },
  "kernelspec": {
   "display_name": "Python 3 (ipykernel)",
   "language": "python",
   "name": "python3"
  },
  "language_info": {
   "codemirror_mode": {
    "name": "ipython",
    "version": 3
   },
   "file_extension": ".py",
   "mimetype": "text/x-python",
   "name": "python",
   "nbconvert_exporter": "python",
   "pygments_lexer": "ipython3",
   "version": "3.9.13"
  },
  "vscode": {
   "interpreter": {
    "hash": "74cc819deff76c29e4928f7ff26e3eddcbba8fed33adfaaa19de16534a73accc"
   }
  }
 },
 "nbformat": 4,
 "nbformat_minor": 1
}
