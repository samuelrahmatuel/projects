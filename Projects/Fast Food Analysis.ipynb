{
  "cells": [
    {
      "source": [
        "# Data Analyst Associate Practical Exam Submission\n",
        "By [Rahmatuel Samuel](https://rahmatuelsamuel.com/)"
      ],
      "metadata": {
        "tags": [],
        "id": "a5b3bc0e-b993-4ee3-bd07-825a474bd0d9"
      },
      "id": "a5b3bc0e-b993-4ee3-bd07-825a474bd0d9",
      "cell_type": "markdown"
    },
    {
      "cell_type": "markdown",
      "source": [
        ">You can run this notebook, by clicking the hamburger button beside the title then click runtime -> run all -> run anyways"
      ],
      "metadata": {
        "id": "VblfAOksB01q"
      },
      "id": "VblfAOksB01q"
    },
    {
      "source": [
        "### Company Background\n",
        "Vivendo is a fast food chain in Brazil with over 200 outlets. As with many fast food\n",
        "establishments, customers make claims against the company. For example, they blame\n",
        "Vivendo for suspected food poisoning.\n",
        "\n",
        "The legal team, who processes these claims, is currently split across four locations. The new\n",
        "head of the legal department wants to see if there are differences in the time it takes to close\n",
        "claims across the locations.\n",
        "\n",
        "### Customer Question\n",
        "The legal team has given you a data set where each row is a claim made against the\n",
        "company. They would like you to answer the following questions:\n",
        "\n",
        "- **How does the number of claims differ across locations?**\n",
        "- **What is the distribution of time to close claims?**\n",
        "- **How does the average time to close claims differ by location?**\n",
        "\n",
        "Dataset\n",
        "The dataset contains one row for each claim. The dataset can be downloaded from [here](https://raw.githubusercontent.com/samuelrahmatuel/projects/main/Datasets/claims.csv)."
      ],
      "metadata": {
        "id": "5adc6250-facc-4f5f-ae19-d22e924cf70c"
      },
      "cell_type": "markdown",
      "id": "5adc6250-facc-4f5f-ae19-d22e924cf70c"
    },
    {
      "source": [
        "# Data Validation Process"
      ],
      "metadata": {
        "id": "210d5e2d-94cc-48ee-b12e-f8354b768184"
      },
      "cell_type": "markdown",
      "id": "210d5e2d-94cc-48ee-b12e-f8354b768184"
    },
    {
      "source": [
        "# Importing Libraries\n",
        "import pandas as pd\n",
        "import numpy as np\n",
        "import seaborn as sns\n",
        "from matplotlib import pyplot as plt"
      ],
      "metadata": {
        "executionTime": 111,
        "lastSuccessfullyExecutedCode": "# Importing Libraries\nimport pandas as pd\nimport numpy as np\nimport seaborn as sns\nfrom matplotlib import pyplot as plt",
        "id": "d25dfceb-803a-402e-8d13-0f53f4576ce8"
      },
      "id": "d25dfceb-803a-402e-8d13-0f53f4576ce8",
      "cell_type": "code",
      "execution_count": 1,
      "outputs": []
    },
    {
      "cell_type": "code",
      "source": [
        "# Import datasets from my github repos\n",
        "import requests\n",
        "url = 'https://raw.githubusercontent.com/samuelrahmatuel/projects/main/Datasets/bffa/claims.csv'\n",
        "res = requests.get(url, allow_redirects=True)\n",
        "with open('claims.csv','wb') as file:\n",
        "    file.write(res.content)"
      ],
      "metadata": {
        "id": "IXF-isSH9uZw"
      },
      "id": "IXF-isSH9uZw",
      "execution_count": 2,
      "outputs": []
    },
    {
      "source": [
        "# Read Dataset\n",
        "df = pd.read_csv('claims.csv')\n",
        "df.head()"
      ],
      "metadata": {
        "executionTime": 216,
        "lastSuccessfullyExecutedCode": "# Read Dataset\ndf = pd.read_csv('claims.csv')\ndf.head()",
        "colab": {
          "base_uri": "https://localhost:8080/",
          "height": 206
        },
        "id": "0ab8c0e7-91ef-434f-b299-bb499b2456a3",
        "outputId": "a19cdf9f-18e8-4f4e-d86d-54abb3cbaa5c"
      },
      "cell_type": "code",
      "id": "0ab8c0e7-91ef-434f-b299-bb499b2456a3",
      "execution_count": 3,
      "outputs": [
        {
          "output_type": "execute_result",
          "data": {
            "text/plain": [
              "                    Claim ID  Time to Close  Claim Amount  Amount Paid  \\\n",
              "0  0000000-00.2010.0.00.0094           2082   R$50,000.00     34297.47   \n",
              "1  0000000-00.2011.0.00.0086           3591  R$180,000.00     56383.54   \n",
              "2  0000000-00.2012.0.00.0092           2997   R$70,000.00     12366.76   \n",
              "3  0000000-00.2013.0.00.0096           1143   R$95,104.00     29217.16   \n",
              "4  0000000-00.2014.0.00.0097            117   R$29,000.00     12610.50   \n",
              "\n",
              "    Location  Individuals on Claim  Linked Cases       Cause  \n",
              "0     RECIFE                     2         False         NaN  \n",
              "1   SAO LUIS                     7         False         NaN  \n",
              "2   SAO LUIS                     3         False  vegetables  \n",
              "3  FORTALEZA                     4         False         NaN  \n",
              "4  FORTALEZA                     1         False        meat  "
            ],
            "text/html": [
              "\n",
              "  <div id=\"df-062bf0ad-e287-41a1-b115-bf602fed7d5e\">\n",
              "    <div class=\"colab-df-container\">\n",
              "      <div>\n",
              "<style scoped>\n",
              "    .dataframe tbody tr th:only-of-type {\n",
              "        vertical-align: middle;\n",
              "    }\n",
              "\n",
              "    .dataframe tbody tr th {\n",
              "        vertical-align: top;\n",
              "    }\n",
              "\n",
              "    .dataframe thead th {\n",
              "        text-align: right;\n",
              "    }\n",
              "</style>\n",
              "<table border=\"1\" class=\"dataframe\">\n",
              "  <thead>\n",
              "    <tr style=\"text-align: right;\">\n",
              "      <th></th>\n",
              "      <th>Claim ID</th>\n",
              "      <th>Time to Close</th>\n",
              "      <th>Claim Amount</th>\n",
              "      <th>Amount Paid</th>\n",
              "      <th>Location</th>\n",
              "      <th>Individuals on Claim</th>\n",
              "      <th>Linked Cases</th>\n",
              "      <th>Cause</th>\n",
              "    </tr>\n",
              "  </thead>\n",
              "  <tbody>\n",
              "    <tr>\n",
              "      <th>0</th>\n",
              "      <td>0000000-00.2010.0.00.0094</td>\n",
              "      <td>2082</td>\n",
              "      <td>R$50,000.00</td>\n",
              "      <td>34297.47</td>\n",
              "      <td>RECIFE</td>\n",
              "      <td>2</td>\n",
              "      <td>False</td>\n",
              "      <td>NaN</td>\n",
              "    </tr>\n",
              "    <tr>\n",
              "      <th>1</th>\n",
              "      <td>0000000-00.2011.0.00.0086</td>\n",
              "      <td>3591</td>\n",
              "      <td>R$180,000.00</td>\n",
              "      <td>56383.54</td>\n",
              "      <td>SAO LUIS</td>\n",
              "      <td>7</td>\n",
              "      <td>False</td>\n",
              "      <td>NaN</td>\n",
              "    </tr>\n",
              "    <tr>\n",
              "      <th>2</th>\n",
              "      <td>0000000-00.2012.0.00.0092</td>\n",
              "      <td>2997</td>\n",
              "      <td>R$70,000.00</td>\n",
              "      <td>12366.76</td>\n",
              "      <td>SAO LUIS</td>\n",
              "      <td>3</td>\n",
              "      <td>False</td>\n",
              "      <td>vegetables</td>\n",
              "    </tr>\n",
              "    <tr>\n",
              "      <th>3</th>\n",
              "      <td>0000000-00.2013.0.00.0096</td>\n",
              "      <td>1143</td>\n",
              "      <td>R$95,104.00</td>\n",
              "      <td>29217.16</td>\n",
              "      <td>FORTALEZA</td>\n",
              "      <td>4</td>\n",
              "      <td>False</td>\n",
              "      <td>NaN</td>\n",
              "    </tr>\n",
              "    <tr>\n",
              "      <th>4</th>\n",
              "      <td>0000000-00.2014.0.00.0097</td>\n",
              "      <td>117</td>\n",
              "      <td>R$29,000.00</td>\n",
              "      <td>12610.50</td>\n",
              "      <td>FORTALEZA</td>\n",
              "      <td>1</td>\n",
              "      <td>False</td>\n",
              "      <td>meat</td>\n",
              "    </tr>\n",
              "  </tbody>\n",
              "</table>\n",
              "</div>\n",
              "      <button class=\"colab-df-convert\" onclick=\"convertToInteractive('df-062bf0ad-e287-41a1-b115-bf602fed7d5e')\"\n",
              "              title=\"Convert this dataframe to an interactive table.\"\n",
              "              style=\"display:none;\">\n",
              "        \n",
              "  <svg xmlns=\"http://www.w3.org/2000/svg\" height=\"24px\"viewBox=\"0 0 24 24\"\n",
              "       width=\"24px\">\n",
              "    <path d=\"M0 0h24v24H0V0z\" fill=\"none\"/>\n",
              "    <path d=\"M18.56 5.44l.94 2.06.94-2.06 2.06-.94-2.06-.94-.94-2.06-.94 2.06-2.06.94zm-11 1L8.5 8.5l.94-2.06 2.06-.94-2.06-.94L8.5 2.5l-.94 2.06-2.06.94zm10 10l.94 2.06.94-2.06 2.06-.94-2.06-.94-.94-2.06-.94 2.06-2.06.94z\"/><path d=\"M17.41 7.96l-1.37-1.37c-.4-.4-.92-.59-1.43-.59-.52 0-1.04.2-1.43.59L10.3 9.45l-7.72 7.72c-.78.78-.78 2.05 0 2.83L4 21.41c.39.39.9.59 1.41.59.51 0 1.02-.2 1.41-.59l7.78-7.78 2.81-2.81c.8-.78.8-2.07 0-2.86zM5.41 20L4 18.59l7.72-7.72 1.47 1.35L5.41 20z\"/>\n",
              "  </svg>\n",
              "      </button>\n",
              "      \n",
              "  <style>\n",
              "    .colab-df-container {\n",
              "      display:flex;\n",
              "      flex-wrap:wrap;\n",
              "      gap: 12px;\n",
              "    }\n",
              "\n",
              "    .colab-df-convert {\n",
              "      background-color: #E8F0FE;\n",
              "      border: none;\n",
              "      border-radius: 50%;\n",
              "      cursor: pointer;\n",
              "      display: none;\n",
              "      fill: #1967D2;\n",
              "      height: 32px;\n",
              "      padding: 0 0 0 0;\n",
              "      width: 32px;\n",
              "    }\n",
              "\n",
              "    .colab-df-convert:hover {\n",
              "      background-color: #E2EBFA;\n",
              "      box-shadow: 0px 1px 2px rgba(60, 64, 67, 0.3), 0px 1px 3px 1px rgba(60, 64, 67, 0.15);\n",
              "      fill: #174EA6;\n",
              "    }\n",
              "\n",
              "    [theme=dark] .colab-df-convert {\n",
              "      background-color: #3B4455;\n",
              "      fill: #D2E3FC;\n",
              "    }\n",
              "\n",
              "    [theme=dark] .colab-df-convert:hover {\n",
              "      background-color: #434B5C;\n",
              "      box-shadow: 0px 1px 3px 1px rgba(0, 0, 0, 0.15);\n",
              "      filter: drop-shadow(0px 1px 2px rgba(0, 0, 0, 0.3));\n",
              "      fill: #FFFFFF;\n",
              "    }\n",
              "  </style>\n",
              "\n",
              "      <script>\n",
              "        const buttonEl =\n",
              "          document.querySelector('#df-062bf0ad-e287-41a1-b115-bf602fed7d5e button.colab-df-convert');\n",
              "        buttonEl.style.display =\n",
              "          google.colab.kernel.accessAllowed ? 'block' : 'none';\n",
              "\n",
              "        async function convertToInteractive(key) {\n",
              "          const element = document.querySelector('#df-062bf0ad-e287-41a1-b115-bf602fed7d5e');\n",
              "          const dataTable =\n",
              "            await google.colab.kernel.invokeFunction('convertToInteractive',\n",
              "                                                     [key], {});\n",
              "          if (!dataTable) return;\n",
              "\n",
              "          const docLinkHtml = 'Like what you see? Visit the ' +\n",
              "            '<a target=\"_blank\" href=https://colab.research.google.com/notebooks/data_table.ipynb>data table notebook</a>'\n",
              "            + ' to learn more about interactive tables.';\n",
              "          element.innerHTML = '';\n",
              "          dataTable['output_type'] = 'display_data';\n",
              "          await google.colab.output.renderOutput(dataTable, element);\n",
              "          const docLink = document.createElement('div');\n",
              "          docLink.innerHTML = docLinkHtml;\n",
              "          element.appendChild(docLink);\n",
              "        }\n",
              "      </script>\n",
              "    </div>\n",
              "  </div>\n",
              "  "
            ]
          },
          "metadata": {},
          "execution_count": 3
        }
      ]
    },
    {
      "source": [
        "# Checking how many number of rows and columns in the dataframe\n",
        "df.shape"
      ],
      "metadata": {
        "executionTime": 0,
        "lastSuccessfullyExecutedCode": "# Checking how many number of rows and columns in the dataframe\ndf.shape",
        "colab": {
          "base_uri": "https://localhost:8080/"
        },
        "id": "842d0d3e-1c53-4f6c-8b67-ceeed48e5f9d",
        "outputId": "5f111c20-ae61-4f16-f3ba-c2fb3c31ffa5"
      },
      "cell_type": "code",
      "id": "842d0d3e-1c53-4f6c-8b67-ceeed48e5f9d",
      "execution_count": 4,
      "outputs": [
        {
          "output_type": "execute_result",
          "data": {
            "text/plain": [
              "(98, 8)"
            ]
          },
          "metadata": {},
          "execution_count": 4
        }
      ]
    },
    {
      "source": [
        "# Display Unique Value of Claim ID\n",
        "print (str(df['Claim ID'].nunique()) +\" Unique Value of Claim ID Rows\")"
      ],
      "metadata": {
        "executionTime": 0,
        "lastSuccessfullyExecutedCode": "# Display Unique Value of Claim ID\nprint (str(df['Claim ID'].nunique()) +\" Unique Value of Claim ID Rows\")",
        "colab": {
          "base_uri": "https://localhost:8080/"
        },
        "id": "a4158051-1caa-4403-bd0f-fec907c5b37b",
        "outputId": "ea4dd58b-dfa3-472f-a310-c0a5f5893cd4"
      },
      "cell_type": "code",
      "id": "a4158051-1caa-4403-bd0f-fec907c5b37b",
      "execution_count": 5,
      "outputs": [
        {
          "output_type": "stream",
          "name": "stdout",
          "text": [
            "98 Unique Value of Claim ID Rows\n"
          ]
        }
      ]
    },
    {
      "source": [
        "# Column Check & Types\n",
        "df.info()"
      ],
      "metadata": {
        "executionTime": 0,
        "lastSuccessfullyExecutedCode": "# Column Check & Types\ndf.info()",
        "colab": {
          "base_uri": "https://localhost:8080/"
        },
        "id": "3dd3bd3b-54fe-43d1-9a36-e1d2dd676e0d",
        "outputId": "59d954ce-2ba3-4c8b-a052-8c5c6c190637"
      },
      "cell_type": "code",
      "id": "3dd3bd3b-54fe-43d1-9a36-e1d2dd676e0d",
      "execution_count": 6,
      "outputs": [
        {
          "output_type": "stream",
          "name": "stdout",
          "text": [
            "<class 'pandas.core.frame.DataFrame'>\n",
            "RangeIndex: 98 entries, 0 to 97\n",
            "Data columns (total 8 columns):\n",
            " #   Column                Non-Null Count  Dtype  \n",
            "---  ------                --------------  -----  \n",
            " 0   Claim ID              98 non-null     object \n",
            " 1   Time to Close         98 non-null     int64  \n",
            " 2   Claim Amount          98 non-null     object \n",
            " 3   Amount Paid           98 non-null     float64\n",
            " 4   Location              98 non-null     object \n",
            " 5   Individuals on Claim  98 non-null     int64  \n",
            " 6   Linked Cases          98 non-null     bool   \n",
            " 7   Cause                 20 non-null     object \n",
            "dtypes: bool(1), float64(1), int64(2), object(4)\n",
            "memory usage: 5.6+ KB\n"
          ]
        }
      ]
    },
    {
      "source": [
        "# Removing (R$) Currency Symbol in Claim Amount Column\n",
        "df['Claim Amount'] = df['Claim Amount'].apply(lambda st: st[st.find(\"$\")+1:st.find(\".\")]).str.replace(\",\",\"\")\n",
        "\n",
        "# Converting Claim Amount Column to Integer Type \n",
        "df['Claim Amount'] = pd.to_numeric(df['Claim Amount'])\n",
        "\n",
        "# Result Check\n",
        "df.head(10)"
      ],
      "cell_type": "code",
      "id": "ddead651-9fd8-45ba-b741-9f1d5ab1cffe",
      "outputs": [
        {
          "output_type": "execute_result",
          "data": {
            "text/plain": [
              "                    Claim ID  Time to Close  Claim Amount  Amount Paid  \\\n",
              "0  0000000-00.2010.0.00.0094           2082         50000     34297.47   \n",
              "1  0000000-00.2011.0.00.0086           3591        180000     56383.54   \n",
              "2  0000000-00.2012.0.00.0092           2997         70000     12366.76   \n",
              "3  0000000-00.2013.0.00.0096           1143         95104     29217.16   \n",
              "4  0000000-00.2014.0.00.0097            117         29000     12610.50   \n",
              "5  0000000-00.2014.0.00.0077            578        150000     23214.56   \n",
              "6  0000000-00.2014.0.00.0076            378         50000     25281.18   \n",
              "7  0000000-00.2014.0.00.0043           2354         40870     24161.73   \n",
              "8  0000000-00.2014.0.00.0071           2325         70000     37464.39   \n",
              "9  0000000-00.2015.0.00.0000           2058         55000      9199.03   \n",
              "\n",
              "    Location  Individuals on Claim  Linked Cases       Cause  \n",
              "0     RECIFE                     2         False         NaN  \n",
              "1   SAO LUIS                     7         False         NaN  \n",
              "2   SAO LUIS                     3         False  vegetables  \n",
              "3  FORTALEZA                     4         False         NaN  \n",
              "4  FORTALEZA                     1         False        meat  \n",
              "5  FORTALEZA                     6         False         NaN  \n",
              "6      NATAL                     2         False        meat  \n",
              "7  FORTALEZA                     1         False         NaN  \n",
              "8  FORTALEZA                     3         False         NaN  \n",
              "9     RECIFE                     2         False         NaN  "
            ],
            "text/html": [
              "\n",
              "  <div id=\"df-52031174-3d7d-4032-8d91-cf18b0669846\">\n",
              "    <div class=\"colab-df-container\">\n",
              "      <div>\n",
              "<style scoped>\n",
              "    .dataframe tbody tr th:only-of-type {\n",
              "        vertical-align: middle;\n",
              "    }\n",
              "\n",
              "    .dataframe tbody tr th {\n",
              "        vertical-align: top;\n",
              "    }\n",
              "\n",
              "    .dataframe thead th {\n",
              "        text-align: right;\n",
              "    }\n",
              "</style>\n",
              "<table border=\"1\" class=\"dataframe\">\n",
              "  <thead>\n",
              "    <tr style=\"text-align: right;\">\n",
              "      <th></th>\n",
              "      <th>Claim ID</th>\n",
              "      <th>Time to Close</th>\n",
              "      <th>Claim Amount</th>\n",
              "      <th>Amount Paid</th>\n",
              "      <th>Location</th>\n",
              "      <th>Individuals on Claim</th>\n",
              "      <th>Linked Cases</th>\n",
              "      <th>Cause</th>\n",
              "    </tr>\n",
              "  </thead>\n",
              "  <tbody>\n",
              "    <tr>\n",
              "      <th>0</th>\n",
              "      <td>0000000-00.2010.0.00.0094</td>\n",
              "      <td>2082</td>\n",
              "      <td>50000</td>\n",
              "      <td>34297.47</td>\n",
              "      <td>RECIFE</td>\n",
              "      <td>2</td>\n",
              "      <td>False</td>\n",
              "      <td>NaN</td>\n",
              "    </tr>\n",
              "    <tr>\n",
              "      <th>1</th>\n",
              "      <td>0000000-00.2011.0.00.0086</td>\n",
              "      <td>3591</td>\n",
              "      <td>180000</td>\n",
              "      <td>56383.54</td>\n",
              "      <td>SAO LUIS</td>\n",
              "      <td>7</td>\n",
              "      <td>False</td>\n",
              "      <td>NaN</td>\n",
              "    </tr>\n",
              "    <tr>\n",
              "      <th>2</th>\n",
              "      <td>0000000-00.2012.0.00.0092</td>\n",
              "      <td>2997</td>\n",
              "      <td>70000</td>\n",
              "      <td>12366.76</td>\n",
              "      <td>SAO LUIS</td>\n",
              "      <td>3</td>\n",
              "      <td>False</td>\n",
              "      <td>vegetables</td>\n",
              "    </tr>\n",
              "    <tr>\n",
              "      <th>3</th>\n",
              "      <td>0000000-00.2013.0.00.0096</td>\n",
              "      <td>1143</td>\n",
              "      <td>95104</td>\n",
              "      <td>29217.16</td>\n",
              "      <td>FORTALEZA</td>\n",
              "      <td>4</td>\n",
              "      <td>False</td>\n",
              "      <td>NaN</td>\n",
              "    </tr>\n",
              "    <tr>\n",
              "      <th>4</th>\n",
              "      <td>0000000-00.2014.0.00.0097</td>\n",
              "      <td>117</td>\n",
              "      <td>29000</td>\n",
              "      <td>12610.50</td>\n",
              "      <td>FORTALEZA</td>\n",
              "      <td>1</td>\n",
              "      <td>False</td>\n",
              "      <td>meat</td>\n",
              "    </tr>\n",
              "    <tr>\n",
              "      <th>5</th>\n",
              "      <td>0000000-00.2014.0.00.0077</td>\n",
              "      <td>578</td>\n",
              "      <td>150000</td>\n",
              "      <td>23214.56</td>\n",
              "      <td>FORTALEZA</td>\n",
              "      <td>6</td>\n",
              "      <td>False</td>\n",
              "      <td>NaN</td>\n",
              "    </tr>\n",
              "    <tr>\n",
              "      <th>6</th>\n",
              "      <td>0000000-00.2014.0.00.0076</td>\n",
              "      <td>378</td>\n",
              "      <td>50000</td>\n",
              "      <td>25281.18</td>\n",
              "      <td>NATAL</td>\n",
              "      <td>2</td>\n",
              "      <td>False</td>\n",
              "      <td>meat</td>\n",
              "    </tr>\n",
              "    <tr>\n",
              "      <th>7</th>\n",
              "      <td>0000000-00.2014.0.00.0043</td>\n",
              "      <td>2354</td>\n",
              "      <td>40870</td>\n",
              "      <td>24161.73</td>\n",
              "      <td>FORTALEZA</td>\n",
              "      <td>1</td>\n",
              "      <td>False</td>\n",
              "      <td>NaN</td>\n",
              "    </tr>\n",
              "    <tr>\n",
              "      <th>8</th>\n",
              "      <td>0000000-00.2014.0.00.0071</td>\n",
              "      <td>2325</td>\n",
              "      <td>70000</td>\n",
              "      <td>37464.39</td>\n",
              "      <td>FORTALEZA</td>\n",
              "      <td>3</td>\n",
              "      <td>False</td>\n",
              "      <td>NaN</td>\n",
              "    </tr>\n",
              "    <tr>\n",
              "      <th>9</th>\n",
              "      <td>0000000-00.2015.0.00.0000</td>\n",
              "      <td>2058</td>\n",
              "      <td>55000</td>\n",
              "      <td>9199.03</td>\n",
              "      <td>RECIFE</td>\n",
              "      <td>2</td>\n",
              "      <td>False</td>\n",
              "      <td>NaN</td>\n",
              "    </tr>\n",
              "  </tbody>\n",
              "</table>\n",
              "</div>\n",
              "      <button class=\"colab-df-convert\" onclick=\"convertToInteractive('df-52031174-3d7d-4032-8d91-cf18b0669846')\"\n",
              "              title=\"Convert this dataframe to an interactive table.\"\n",
              "              style=\"display:none;\">\n",
              "        \n",
              "  <svg xmlns=\"http://www.w3.org/2000/svg\" height=\"24px\"viewBox=\"0 0 24 24\"\n",
              "       width=\"24px\">\n",
              "    <path d=\"M0 0h24v24H0V0z\" fill=\"none\"/>\n",
              "    <path d=\"M18.56 5.44l.94 2.06.94-2.06 2.06-.94-2.06-.94-.94-2.06-.94 2.06-2.06.94zm-11 1L8.5 8.5l.94-2.06 2.06-.94-2.06-.94L8.5 2.5l-.94 2.06-2.06.94zm10 10l.94 2.06.94-2.06 2.06-.94-2.06-.94-.94-2.06-.94 2.06-2.06.94z\"/><path d=\"M17.41 7.96l-1.37-1.37c-.4-.4-.92-.59-1.43-.59-.52 0-1.04.2-1.43.59L10.3 9.45l-7.72 7.72c-.78.78-.78 2.05 0 2.83L4 21.41c.39.39.9.59 1.41.59.51 0 1.02-.2 1.41-.59l7.78-7.78 2.81-2.81c.8-.78.8-2.07 0-2.86zM5.41 20L4 18.59l7.72-7.72 1.47 1.35L5.41 20z\"/>\n",
              "  </svg>\n",
              "      </button>\n",
              "      \n",
              "  <style>\n",
              "    .colab-df-container {\n",
              "      display:flex;\n",
              "      flex-wrap:wrap;\n",
              "      gap: 12px;\n",
              "    }\n",
              "\n",
              "    .colab-df-convert {\n",
              "      background-color: #E8F0FE;\n",
              "      border: none;\n",
              "      border-radius: 50%;\n",
              "      cursor: pointer;\n",
              "      display: none;\n",
              "      fill: #1967D2;\n",
              "      height: 32px;\n",
              "      padding: 0 0 0 0;\n",
              "      width: 32px;\n",
              "    }\n",
              "\n",
              "    .colab-df-convert:hover {\n",
              "      background-color: #E2EBFA;\n",
              "      box-shadow: 0px 1px 2px rgba(60, 64, 67, 0.3), 0px 1px 3px 1px rgba(60, 64, 67, 0.15);\n",
              "      fill: #174EA6;\n",
              "    }\n",
              "\n",
              "    [theme=dark] .colab-df-convert {\n",
              "      background-color: #3B4455;\n",
              "      fill: #D2E3FC;\n",
              "    }\n",
              "\n",
              "    [theme=dark] .colab-df-convert:hover {\n",
              "      background-color: #434B5C;\n",
              "      box-shadow: 0px 1px 3px 1px rgba(0, 0, 0, 0.15);\n",
              "      filter: drop-shadow(0px 1px 2px rgba(0, 0, 0, 0.3));\n",
              "      fill: #FFFFFF;\n",
              "    }\n",
              "  </style>\n",
              "\n",
              "      <script>\n",
              "        const buttonEl =\n",
              "          document.querySelector('#df-52031174-3d7d-4032-8d91-cf18b0669846 button.colab-df-convert');\n",
              "        buttonEl.style.display =\n",
              "          google.colab.kernel.accessAllowed ? 'block' : 'none';\n",
              "\n",
              "        async function convertToInteractive(key) {\n",
              "          const element = document.querySelector('#df-52031174-3d7d-4032-8d91-cf18b0669846');\n",
              "          const dataTable =\n",
              "            await google.colab.kernel.invokeFunction('convertToInteractive',\n",
              "                                                     [key], {});\n",
              "          if (!dataTable) return;\n",
              "\n",
              "          const docLinkHtml = 'Like what you see? Visit the ' +\n",
              "            '<a target=\"_blank\" href=https://colab.research.google.com/notebooks/data_table.ipynb>data table notebook</a>'\n",
              "            + ' to learn more about interactive tables.';\n",
              "          element.innerHTML = '';\n",
              "          dataTable['output_type'] = 'display_data';\n",
              "          await google.colab.output.renderOutput(dataTable, element);\n",
              "          const docLink = document.createElement('div');\n",
              "          docLink.innerHTML = docLinkHtml;\n",
              "          element.appendChild(docLink);\n",
              "        }\n",
              "      </script>\n",
              "    </div>\n",
              "  </div>\n",
              "  "
            ]
          },
          "metadata": {},
          "execution_count": 7
        }
      ],
      "execution_count": 7,
      "metadata": {
        "executionTime": 96,
        "lastSuccessfullyExecutedCode": "# Removing (R$) Currency Symbol in Claim Amount Column\ndf['Claim Amount'] = df['Claim Amount'].apply(lambda st: st[st.find(\"$\")+1:st.find(\".\")]).str.replace(\",\",\"\")\n\n# Converting Claim Amount Column to Integer Type \ndf['Claim Amount'] = pd.to_numeric(df['Claim Amount'])\n\n# Result Check\ndf.head(10)",
        "colab": {
          "base_uri": "https://localhost:8080/",
          "height": 363
        },
        "id": "ddead651-9fd8-45ba-b741-9f1d5ab1cffe",
        "outputId": "a8a3c9c4-dac6-4acb-a43e-dc4380b93f98"
      }
    },
    {
      "source": [
        "# The Claim Amount Type Changed into Integer\n",
        "df.info()\n"
      ],
      "metadata": {
        "executionTime": 0,
        "lastSuccessfullyExecutedCode": "# The Claim Amount Type Changed into Integer\ndf.info()\n",
        "colab": {
          "base_uri": "https://localhost:8080/"
        },
        "id": "574e610a-3b75-4fab-ba83-07506521abc7",
        "outputId": "dc964bd3-5f15-4efe-f4cc-61d46346f23d"
      },
      "cell_type": "code",
      "id": "574e610a-3b75-4fab-ba83-07506521abc7",
      "execution_count": 8,
      "outputs": [
        {
          "output_type": "stream",
          "name": "stdout",
          "text": [
            "<class 'pandas.core.frame.DataFrame'>\n",
            "RangeIndex: 98 entries, 0 to 97\n",
            "Data columns (total 8 columns):\n",
            " #   Column                Non-Null Count  Dtype  \n",
            "---  ------                --------------  -----  \n",
            " 0   Claim ID              98 non-null     object \n",
            " 1   Time to Close         98 non-null     int64  \n",
            " 2   Claim Amount          98 non-null     int64  \n",
            " 3   Amount Paid           98 non-null     float64\n",
            " 4   Location              98 non-null     object \n",
            " 5   Individuals on Claim  98 non-null     int64  \n",
            " 6   Linked Cases          98 non-null     bool   \n",
            " 7   Cause                 20 non-null     object \n",
            "dtypes: bool(1), float64(1), int64(3), object(3)\n",
            "memory usage: 5.6+ KB\n"
          ]
        }
      ]
    },
    {
      "source": [
        "# Checking Null Values\n",
        "df.isna().sum()"
      ],
      "metadata": {
        "executionTime": 0,
        "lastSuccessfullyExecutedCode": "# Checking Null Values\ndf.isna().sum()",
        "colab": {
          "base_uri": "https://localhost:8080/"
        },
        "id": "d9e2b3aa-1173-46d2-a995-bed87e952680",
        "outputId": "5e595c37-3140-446a-ba7f-ea874ead1ff2"
      },
      "cell_type": "code",
      "id": "d9e2b3aa-1173-46d2-a995-bed87e952680",
      "execution_count": 9,
      "outputs": [
        {
          "output_type": "execute_result",
          "data": {
            "text/plain": [
              "Claim ID                 0\n",
              "Time to Close            0\n",
              "Claim Amount             0\n",
              "Amount Paid              0\n",
              "Location                 0\n",
              "Individuals on Claim     0\n",
              "Linked Cases             0\n",
              "Cause                   78\n",
              "dtype: int64"
            ]
          },
          "metadata": {},
          "execution_count": 9
        }
      ]
    },
    {
      "source": [
        "> 78 Null Values in 'Cause' Column, Need to replace them with values i.e replace with 'unknown'"
      ],
      "metadata": {
        "id": "b0fa648e-0e85-4078-af7e-7cafd27deaf8"
      },
      "cell_type": "markdown",
      "id": "b0fa648e-0e85-4078-af7e-7cafd27deaf8"
    },
    {
      "source": [
        "# Replacing Values into 'unknown'\n",
        "df['Cause'] = df['Cause'].fillna('unknown')\n",
        "\n",
        "# Show the changed result, it should be 0 values for the Cause\n",
        "print(df.isna().sum())"
      ],
      "metadata": {
        "executionTime": 0,
        "lastSuccessfullyExecutedCode": "# Replacing Values into 'unknown'\ndf['Cause'] = df['Cause'].fillna('unknown')\n\n# Show the changed result, it should be 0 values for the Cause\nprint(df.isna().sum())",
        "colab": {
          "base_uri": "https://localhost:8080/"
        },
        "id": "53a52b98-53b8-4254-8aa4-833e62dea845",
        "outputId": "dde740b1-4aae-4ae9-d66d-3e586a24d70e"
      },
      "cell_type": "code",
      "id": "53a52b98-53b8-4254-8aa4-833e62dea845",
      "execution_count": 10,
      "outputs": [
        {
          "output_type": "stream",
          "name": "stdout",
          "text": [
            "Claim ID                0\n",
            "Time to Close           0\n",
            "Claim Amount            0\n",
            "Amount Paid             0\n",
            "Location                0\n",
            "Individuals on Claim    0\n",
            "Linked Cases            0\n",
            "Cause                   0\n",
            "dtype: int64\n"
          ]
        }
      ]
    },
    {
      "source": [
        "> \"Data shining bright, cleaning done right\" To the next Data Discovery ✅"
      ],
      "metadata": {
        "id": "519d5155-b645-4ac9-b79d-9314e45f3c7a"
      },
      "cell_type": "markdown",
      "id": "519d5155-b645-4ac9-b79d-9314e45f3c7a"
    },
    {
      "source": [
        "# Group the data\n",
        "unique_causes = df.groupby(['Cause']).size()\n",
        "\n",
        "# How Much the unique causes, list them and the count of them\n",
        "print('From the dataset we found '+ f\"{unique_causes.shape[0]} Unique Causes, which are:\")\n",
        "for i, (cause, count) in enumerate(unique_causes.items(), start=1):\n",
        "    \n",
        "# Result\n",
        "    print(f\"{i}. {cause} ({count})\")"
      ],
      "metadata": {
        "executionTime": 0,
        "lastSuccessfullyExecutedCode": "# Group the data\nunique_causes = df.groupby(['Cause']).size()\n\n# How Much the unique causes, list them and the count of them\nprint('From the dataset we found '+ f\"{unique_causes.shape[0]} Unique Causes, which are:\")\nfor i, (cause, count) in enumerate(unique_causes.items(), start=1):\n    \n# Result\n    print(f\"{i}. {cause} ({count})\")",
        "colab": {
          "base_uri": "https://localhost:8080/"
        },
        "id": "040b8296-c079-4302-b43b-a65589c802aa",
        "outputId": "e33ddcee-1f96-4c36-9b86-34c609e8db1f"
      },
      "cell_type": "code",
      "id": "040b8296-c079-4302-b43b-a65589c802aa",
      "execution_count": 11,
      "outputs": [
        {
          "output_type": "stream",
          "name": "stdout",
          "text": [
            "From the dataset we found 3 Unique Causes, which are:\n",
            "1. meat (12)\n",
            "2. unknown (78)\n",
            "3. vegetables (8)\n"
          ]
        }
      ]
    },
    {
      "source": [
        "Main Cause Of The Food Poisoning Injuries\n",
        "- Meat 12\n",
        "- Unknown 78\n",
        "- Vegetables 8"
      ],
      "metadata": {
        "id": "9ad6cf14-180d-4e7c-b3b7-271c39ee51e0"
      },
      "cell_type": "markdown",
      "id": "9ad6cf14-180d-4e7c-b3b7-271c39ee51e0"
    },
    {
      "source": [
        "## Data Validation\n",
        "Upon initial examination, the data consisted of **98 rows and 8 columns**. The data types were evaluated and adjustments were made such as **removing currency symbols** and **changing data types** in **\"Claim Amount\" column**. **78 missing values** in \"Cause\" column were replaced with **\"unknown\"**. The data revealed that the legal team processes claims in 4 locations: **Fortaleza**, **Recife**, **Natal**, and **Sao Luis**. \n",
        ">Re-evaluation was done to ensure compliance with the established dictionary. \n",
        "After data cleaning, there were **no missing values**. As expected, there are 4 different location categories. The \"Linked\" column includes binary options for claims believed to be linked with other cases, with \"True\" or \"False\" values. \n",
        "\n",
        "### The main causes of food poisoning injuries identified\n",
        "- 'vegetable'\n",
        "- 'meat'\n",
        "- 'unknown'"
      ],
      "metadata": {
        "jp-MarkdownHeadingCollapsed": true,
        "tags": [],
        "id": "d1b1a012-1ccb-40e7-a1ad-77b60b256690"
      },
      "cell_type": "markdown",
      "id": "d1b1a012-1ccb-40e7-a1ad-77b60b256690"
    },
    {
      "source": [
        "# Data Discovery and Visualization Process"
      ],
      "metadata": {
        "id": "c4aad4d7-fc4a-4494-bff1-4bb1c9fb9ac2"
      },
      "cell_type": "markdown",
      "id": "c4aad4d7-fc4a-4494-bff1-4bb1c9fb9ac2"
    },
    {
      "source": [
        "# Grouping the data by the 'Cause' column using the groupby() method, then uses the size() method to get the total number of data\n",
        "causes_count = df.groupby(['Cause']).size().sort_values(ascending=True)[:3]\n",
        "plt.figure(figsize=(6,9))\n",
        "color = ['#6F3637','#B35340','#CE8054']\n",
        "\n",
        "#Creating a bar plot using Seaborn Lib as imported above\n",
        "splot = sns.barplot(x=causes_count.index, y=causes_count.values, palette=color)\n",
        "\n",
        "# Set the x-axis label, y-axis label and the title of the plot\n",
        "plt.xlabel(\"Cause\")\n",
        "plt.ylabel(\"Counts\")\n",
        "plt.title('Main Cause of The Food Poisoning Injuries', fontsize = 16)\n",
        "    \n",
        "# Let the magic happen\n",
        "plt.show()\n"
      ],
      "metadata": {
        "executionTime": 150,
        "lastSuccessfullyExecutedCode": "# Grouping the data by the 'Cause' column using the groupby() method, then uses the size() method to get the total number of data\ncauses_count = df.groupby(['Cause']).size().sort_values(ascending=True)[:3]\nplt.figure(figsize=(6,9))\ncolor = ['#6F3637','#B35340','#CE8054']\n\n#Creating a bar plot using Seaborn Lib as imported above\nsplot = sns.barplot(x=causes_count.index, y=causes_count.values, palette=color)\n\n# Set the x-axis label, y-axis label and the title of the plot\nplt.xlabel(\"Cause\")\nplt.ylabel(\"Counts\")\nplt.title('Main Cause of The Food Poisoning Injuries', fontsize = 16)\n\n# Loop is used to show the count value on the top of each bars in the plot\nfor i in splot.containers:\n    splot.bar_label(i,)\n    \n# Let the magic happen\nplt.show()\n",
        "colab": {
          "base_uri": "https://localhost:8080/",
          "height": 569
        },
        "id": "59060d85-1975-47ee-8ca9-3a43ee9fc4fd",
        "outputId": "f5978021-157d-4929-c206-26e7d15951fe"
      },
      "cell_type": "code",
      "id": "59060d85-1975-47ee-8ca9-3a43ee9fc4fd",
      "execution_count": 12,
      "outputs": [
        {
          "output_type": "display_data",
          "data": {
            "text/plain": [
              "<Figure size 432x648 with 1 Axes>"
            ],
            "image/png": "[encoded data removed]"
          },
          "metadata": {
            "needs_background": "light"
          }
        }
      ]
    },
    {
      "source": [
        "This code will create a bar plot of the **main causes of food poisoning injuries** from the data in the dataframe.\n",
        "> showing the counts of each cause on the y-axis and the causes on the x-axis, with custom colors on the bars. "
      ],
      "metadata": {
        "id": "13546e30-5777-4e25-9cc8-9ea7df46d719"
      },
      "cell_type": "markdown",
      "id": "13546e30-5777-4e25-9cc8-9ea7df46d719"
    },
    {
      "source": [
        "# Describe Data Frame\n",
        "df.describe()"
      ],
      "metadata": {
        "executionTime": 0,
        "lastSuccessfullyExecutedCode": "# Describe Data Frame\ndf.describe()",
        "colab": {
          "base_uri": "https://localhost:8080/",
          "height": 300
        },
        "id": "0ff9eefa-fff2-414a-ae73-a8467f0e0966",
        "outputId": "95da9335-ec2e-488b-97a1-b720b354d268"
      },
      "cell_type": "code",
      "id": "0ff9eefa-fff2-414a-ae73-a8467f0e0966",
      "execution_count": 13,
      "outputs": [
        {
          "output_type": "execute_result",
          "data": {
            "text/plain": [
              "       Time to Close   Claim Amount    Amount Paid  Individuals on Claim\n",
              "count      98.000000      98.000000      98.000000             98.000000\n",
              "mean      832.346939  122952.030612   58448.238571              4.908163\n",
              "std       686.851131  166433.389040   87525.873849              7.292259\n",
              "min       -57.000000    3555.000000     999.680000              0.000000\n",
              "25%       340.750000   40000.000000   15965.642500              1.000000\n",
              "50%       638.500000   58454.500000   29451.040000              2.000000\n",
              "75%      1138.750000  136573.250000   52114.760000              5.750000\n",
              "max      3591.000000  936540.000000  558725.770000             41.000000"
            ],
            "text/html": [
              "\n",
              "  <div id=\"df-8c35f740-adea-4ad9-a988-b16eadb4ce95\">\n",
              "    <div class=\"colab-df-container\">\n",
              "      <div>\n",
              "<style scoped>\n",
              "    .dataframe tbody tr th:only-of-type {\n",
              "        vertical-align: middle;\n",
              "    }\n",
              "\n",
              "    .dataframe tbody tr th {\n",
              "        vertical-align: top;\n",
              "    }\n",
              "\n",
              "    .dataframe thead th {\n",
              "        text-align: right;\n",
              "    }\n",
              "</style>\n",
              "<table border=\"1\" class=\"dataframe\">\n",
              "  <thead>\n",
              "    <tr style=\"text-align: right;\">\n",
              "      <th></th>\n",
              "      <th>Time to Close</th>\n",
              "      <th>Claim Amount</th>\n",
              "      <th>Amount Paid</th>\n",
              "      <th>Individuals on Claim</th>\n",
              "    </tr>\n",
              "  </thead>\n",
              "  <tbody>\n",
              "    <tr>\n",
              "      <th>count</th>\n",
              "      <td>98.000000</td>\n",
              "      <td>98.000000</td>\n",
              "      <td>98.000000</td>\n",
              "      <td>98.000000</td>\n",
              "    </tr>\n",
              "    <tr>\n",
              "      <th>mean</th>\n",
              "      <td>832.346939</td>\n",
              "      <td>122952.030612</td>\n",
              "      <td>58448.238571</td>\n",
              "      <td>4.908163</td>\n",
              "    </tr>\n",
              "    <tr>\n",
              "      <th>std</th>\n",
              "      <td>686.851131</td>\n",
              "      <td>166433.389040</td>\n",
              "      <td>87525.873849</td>\n",
              "      <td>7.292259</td>\n",
              "    </tr>\n",
              "    <tr>\n",
              "      <th>min</th>\n",
              "      <td>-57.000000</td>\n",
              "      <td>3555.000000</td>\n",
              "      <td>999.680000</td>\n",
              "      <td>0.000000</td>\n",
              "    </tr>\n",
              "    <tr>\n",
              "      <th>25%</th>\n",
              "      <td>340.750000</td>\n",
              "      <td>40000.000000</td>\n",
              "      <td>15965.642500</td>\n",
              "      <td>1.000000</td>\n",
              "    </tr>\n",
              "    <tr>\n",
              "      <th>50%</th>\n",
              "      <td>638.500000</td>\n",
              "      <td>58454.500000</td>\n",
              "      <td>29451.040000</td>\n",
              "      <td>2.000000</td>\n",
              "    </tr>\n",
              "    <tr>\n",
              "      <th>75%</th>\n",
              "      <td>1138.750000</td>\n",
              "      <td>136573.250000</td>\n",
              "      <td>52114.760000</td>\n",
              "      <td>5.750000</td>\n",
              "    </tr>\n",
              "    <tr>\n",
              "      <th>max</th>\n",
              "      <td>3591.000000</td>\n",
              "      <td>936540.000000</td>\n",
              "      <td>558725.770000</td>\n",
              "      <td>41.000000</td>\n",
              "    </tr>\n",
              "  </tbody>\n",
              "</table>\n",
              "</div>\n",
              "      <button class=\"colab-df-convert\" onclick=\"convertToInteractive('df-8c35f740-adea-4ad9-a988-b16eadb4ce95')\"\n",
              "              title=\"Convert this dataframe to an interactive table.\"\n",
              "              style=\"display:none;\">\n",
              "        \n",
              "  <svg xmlns=\"http://www.w3.org/2000/svg\" height=\"24px\"viewBox=\"0 0 24 24\"\n",
              "       width=\"24px\">\n",
              "    <path d=\"M0 0h24v24H0V0z\" fill=\"none\"/>\n",
              "    <path d=\"M18.56 5.44l.94 2.06.94-2.06 2.06-.94-2.06-.94-.94-2.06-.94 2.06-2.06.94zm-11 1L8.5 8.5l.94-2.06 2.06-.94-2.06-.94L8.5 2.5l-.94 2.06-2.06.94zm10 10l.94 2.06.94-2.06 2.06-.94-2.06-.94-.94-2.06-.94 2.06-2.06.94z\"/><path d=\"M17.41 7.96l-1.37-1.37c-.4-.4-.92-.59-1.43-.59-.52 0-1.04.2-1.43.59L10.3 9.45l-7.72 7.72c-.78.78-.78 2.05 0 2.83L4 21.41c.39.39.9.59 1.41.59.51 0 1.02-.2 1.41-.59l7.78-7.78 2.81-2.81c.8-.78.8-2.07 0-2.86zM5.41 20L4 18.59l7.72-7.72 1.47 1.35L5.41 20z\"/>\n",
              "  </svg>\n",
              "      </button>\n",
              "      \n",
              "  <style>\n",
              "    .colab-df-container {\n",
              "      display:flex;\n",
              "      flex-wrap:wrap;\n",
              "      gap: 12px;\n",
              "    }\n",
              "\n",
              "    .colab-df-convert {\n",
              "      background-color: #E8F0FE;\n",
              "      border: none;\n",
              "      border-radius: 50%;\n",
              "      cursor: pointer;\n",
              "      display: none;\n",
              "      fill: #1967D2;\n",
              "      height: 32px;\n",
              "      padding: 0 0 0 0;\n",
              "      width: 32px;\n",
              "    }\n",
              "\n",
              "    .colab-df-convert:hover {\n",
              "      background-color: #E2EBFA;\n",
              "      box-shadow: 0px 1px 2px rgba(60, 64, 67, 0.3), 0px 1px 3px 1px rgba(60, 64, 67, 0.15);\n",
              "      fill: #174EA6;\n",
              "    }\n",
              "\n",
              "    [theme=dark] .colab-df-convert {\n",
              "      background-color: #3B4455;\n",
              "      fill: #D2E3FC;\n",
              "    }\n",
              "\n",
              "    [theme=dark] .colab-df-convert:hover {\n",
              "      background-color: #434B5C;\n",
              "      box-shadow: 0px 1px 3px 1px rgba(0, 0, 0, 0.15);\n",
              "      filter: drop-shadow(0px 1px 2px rgba(0, 0, 0, 0.3));\n",
              "      fill: #FFFFFF;\n",
              "    }\n",
              "  </style>\n",
              "\n",
              "      <script>\n",
              "        const buttonEl =\n",
              "          document.querySelector('#df-8c35f740-adea-4ad9-a988-b16eadb4ce95 button.colab-df-convert');\n",
              "        buttonEl.style.display =\n",
              "          google.colab.kernel.accessAllowed ? 'block' : 'none';\n",
              "\n",
              "        async function convertToInteractive(key) {\n",
              "          const element = document.querySelector('#df-8c35f740-adea-4ad9-a988-b16eadb4ce95');\n",
              "          const dataTable =\n",
              "            await google.colab.kernel.invokeFunction('convertToInteractive',\n",
              "                                                     [key], {});\n",
              "          if (!dataTable) return;\n",
              "\n",
              "          const docLinkHtml = 'Like what you see? Visit the ' +\n",
              "            '<a target=\"_blank\" href=https://colab.research.google.com/notebooks/data_table.ipynb>data table notebook</a>'\n",
              "            + ' to learn more about interactive tables.';\n",
              "          element.innerHTML = '';\n",
              "          dataTable['output_type'] = 'display_data';\n",
              "          await google.colab.output.renderOutput(dataTable, element);\n",
              "          const docLink = document.createElement('div');\n",
              "          docLink.innerHTML = docLinkHtml;\n",
              "          element.appendChild(docLink);\n",
              "        }\n",
              "      </script>\n",
              "    </div>\n",
              "  </div>\n",
              "  "
            ]
          },
          "metadata": {},
          "execution_count": 13
        }
      ]
    },
    {
      "source": [
        "# 1. How does the number of claims differ across locations?"
      ],
      "metadata": {
        "id": "d1b02bcf-6d64-4af0-ac3e-275d1eb2fea8"
      },
      "cell_type": "markdown",
      "id": "d1b02bcf-6d64-4af0-ac3e-275d1eb2fea8"
    },
    {
      "source": [
        "# We can try to groups the data by 'Location' column, and then uses the sum() method to get the total number of individuals on claim for each group\n",
        "\n",
        "location_claims = df.groupby('Location')['Individuals on Claim'].sum().sort_values(ascending=False)\n",
        "\n",
        "# Sort is additional I just want to make it easier to see\n",
        "\n",
        "# Display the result with loop that iterate over the location_claims dataframe\n",
        "\n",
        "print(\"Total Number of Individuals on Claim by Location, Order By Highest to Lowest:\")\n",
        "for location, individuals in location_claims.items():\n",
        "    print(f\"{location}: {individuals} Individuals\")"
      ],
      "metadata": {
        "executionTime": 0,
        "lastSuccessfullyExecutedCode": "# We can try to groups the data by 'Location' column, and then uses the sum() method to get the total number of individuals on claim for each group\n\nlocation_claims = df.groupby('Location')['Individuals on Claim'].sum().sort_values(ascending=False)\n\n# Sort is additional I just want to make it easier to see\n\n# Display the result with loop that iterate over the location_claims dataframe\n\nprint(\"Total Number of Individuals on Claim by Location, Order By Highest to Lowest:\")\nfor location, individuals in location_claims.items():\n    print(f\"{location}: {individuals} Individuals\")",
        "colab": {
          "base_uri": "https://localhost:8080/"
        },
        "id": "be017f6e-9ef9-40f9-9446-439d264a5b76",
        "outputId": "777d3f2c-4878-4cfd-f585-df05939a9cf9"
      },
      "cell_type": "code",
      "id": "be017f6e-9ef9-40f9-9446-439d264a5b76",
      "execution_count": 14,
      "outputs": [
        {
          "output_type": "stream",
          "name": "stdout",
          "text": [
            "Total Number of Individuals on Claim by Location, Order By Highest to Lowest:\n",
            "NATAL: 168 Individuals\n",
            "SAO LUIS: 138 Individuals\n",
            "RECIFE: 106 Individuals\n",
            "FORTALEZA: 69 Individuals\n"
          ]
        }
      ]
    },
    {
      "source": [
        "# Create plot figure and define the color\n",
        "plt.figure(figsize=(6,9))\n",
        "color = ['#2B3D58','#6F3637','#B35340','#CE8054']\n",
        "\n",
        "# Group data by 'Location' column and sum values in 'Individuals on Claim' column\n",
        "location_claims = df.groupby('Location')['Individuals on Claim'].sum().sort_values(ascending=True)\n",
        "# Sort is additional i just want to make it easier to see \n",
        "location_claims = location_claims.sort_index()\n",
        "ax = sns.barplot(x = location_claims.index,\n",
        "                 y = location_claims.values, palette=color)\n",
        "plt.xlabel(\"Location\")\n",
        "plt.ylabel(\"Individual on Claims\")\n",
        "plt.title('Total Number of Individual on Claims Differ Across Location', fontsize = 14)\n",
        "\n",
        "# Add the values of each bar on the plot\n",
        "for p in ax.patches:\n",
        "  ax.annotate(format(p.get_height(), '.2f'), (p.get_x() + p.get_width() / 2., p.get_height()), ha = 'center', va = 'center', xytext = (0, 5), textcoords = 'offset points')\n",
        "\n",
        "# Let the magic happen\n",
        "plt.show()"
      ],
      "metadata": {
        "executionTime": 151,
        "lastSuccessfullyExecutedCode": "# Create plot figure and define the color\nplt.figure(figsize=(6,9))\ncolor = ['#2B3D58','#6F3637','#B35340','#CE8054']\n\n# Group data by 'Location' column and sum values in 'Individuals on Claim' column\nlocation_claims = df.groupby('Location')['Individuals on Claim'].sum().sort_values(ascending=True)\n# Sort is additional i just want to make it easier to see \nlocation_claims = location_claims.sort_index()\nax = sns.barplot(x = location_claims.index,\n                 y = location_claims.values, palette=color)\nplt.xlabel(\"Location\")\nplt.ylabel(\"Individual on Claims\")\nplt.title('Total Number of Individual on Claims Differ Across Location', fontsize = 14)\n\n# Add the values of each bar on the plot\nfor p in ax.patches:\n  ax.annotate(format(p.get_height(), '.2f'), (p.get_x() + p.get_width() / 2., p.get_height()), ha = 'center', va = 'center', xytext = (0, 5), textcoords = 'offset points')\n\n# Let the magic happen\nplt.show()",
        "colab": {
          "base_uri": "https://localhost:8080/",
          "height": 568
        },
        "id": "bfc187e3-992d-4fa9-8c4f-8245ec9b2a12",
        "outputId": "5fc9db9f-a636-408f-e0ce-32bbbdd78480"
      },
      "cell_type": "code",
      "id": "bfc187e3-992d-4fa9-8c4f-8245ec9b2a12",
      "execution_count": 15,
      "outputs": [
        {
          "output_type": "display_data",
          "data": {
            "text/plain": [
              "<Figure size 432x648 with 1 Axes>"
            ],
            "image/png": "[encoded data removed]"
          },
          "metadata": {
            "needs_background": "light"
          }
        }
      ]
    },
    {
      "source": [
        "# 2. What is the distribution of time to close claims?\n",
        "There are various time to close between one claim and another. The most common time, it tooks around 0-500 days from someone make a claim until the claim has solved. A kernel density estimate (KDE) plot is a method i chose for visualizing the distribution of observations. KDE represents the distribution of time to close claims as shown below :"
      ],
      "metadata": {
        "id": "16887b0c-a130-4ec8-8fd5-5b78ef078be6"
      },
      "cell_type": "markdown",
      "id": "16887b0c-a130-4ec8-8fd5-5b78ef078be6"
    },
    {
      "source": [
        "# Creating KDE Plot (Kernel Density Estimate) \n",
        "plt.figure(figsize=(6,4))\n",
        "sns.kdeplot(data=df['Time to Close'], shade=True, color='#08172E')\n",
        "plt.xlabel(\"Time to Close (Day)\")\n",
        "plt.ylabel(\"Density\")\n",
        "plt.title('The Distribution of Time to Close Claims', fontsize = 16)\n",
        "\n",
        "# Let The Magic Happen\n",
        "plt.show()"
      ],
      "metadata": {
        "executionTime": 492,
        "lastSuccessfullyExecutedCode": "# Creating KDE Plot (Kernel Density Estimate) \nplt.figure(figsize=(6,4))\nsns.kdeplot(data=df['Time to Close'], shade=True, color='#08172E')\nplt.xlabel(\"Time to Close (Day)\")\nplt.ylabel(\"Density\")\nplt.title('The Distribution of Time to Close Claims', fontsize = 16)\n\n# Let The Magic Happen\nplt.show()",
        "colab": {
          "base_uri": "https://localhost:8080/",
          "height": 297
        },
        "id": "5b9b39b9-5cd7-480f-ad2e-0598fd3c8152",
        "outputId": "27a7384f-77a5-4e69-a209-a778afd772a7"
      },
      "cell_type": "code",
      "id": "5b9b39b9-5cd7-480f-ad2e-0598fd3c8152",
      "execution_count": 16,
      "outputs": [
        {
          "output_type": "display_data",
          "data": {
            "text/plain": [
              "<Figure size 432x288 with 1 Axes>"
            ],
            "image/png": "[encoded data removed]"
          },
          "metadata": {
            "needs_background": "light"
          }
        }
      ]
    },
    {
      "source": [
        "# Create a facet grid with 'Location' as the column variable\n",
        "g = sns.FacetGrid(df, col=\"Location\")\n",
        "\n",
        "# Use kdeplot to plot 'Time to Close' for each location\n",
        "g.map_dataframe(sns.kdeplot, x=\"Time to Close\",shade=True, color='#08172E')"
      ],
      "metadata": {
        "executionTime": 569,
        "lastSuccessfullyExecutedCode": "# Create a facet grid with 'Location' as the column variable\ng = sns.FacetGrid(df, col=\"Location\")\n\n# Use kdeplot to plot 'Time to Close' for each location\ng.map_dataframe(sns.kdeplot, x=\"Time to Close\",shade=True, color='#08172E')",
        "colab": {
          "base_uri": "https://localhost:8080/",
          "height": 242
        },
        "id": "e230fe38-e240-4b44-a252-d1bb2c72bca9",
        "outputId": "e74537a3-e0d1-45a5-b525-fdcc4b9a14ff"
      },
      "cell_type": "code",
      "id": "e230fe38-e240-4b44-a252-d1bb2c72bca9",
      "execution_count": 17,
      "outputs": [
        {
          "output_type": "execute_result",
          "data": {
            "text/plain": [
              "<seaborn.axisgrid.FacetGrid at 0x7f4498e83790>"
            ]
          },
          "metadata": {},
          "execution_count": 17
        },
        {
          "output_type": "display_data",
          "data": {
            "text/plain": [
              "<Figure size 864x216 with 4 Axes>"
            ],
            "image/png": "[encoded data removed]"
          },
          "metadata": {
            "needs_background": "light"
          }
        }
      ]
    },
    {
      "source": [
        "plt.figure(figsize=(6,4))\n",
        "\n",
        "# Create a heatmap of the correlation matrix for the dataframe\n",
        "sns.heatmap(df.corr(), annot=True, cmap=\"coolwarm\")\n",
        "\n",
        "plt.title('Correlation Matrix', fontsize = 16)\n",
        "\n",
        "# Let the magic happen\n",
        "plt.show()"
      ],
      "metadata": {
        "executionTime": 377,
        "lastSuccessfullyExecutedCode": "plt.figure(figsize=(6,4))\n\n# Create a heatmap of the correlation matrix for the dataframe\nsns.heatmap(df.corr(), annot=True, cmap=\"coolwarm\")\n\nplt.title('Correlation Matrix', fontsize = 16)\n\n# Let the magic happen\nplt.show()",
        "colab": {
          "base_uri": "https://localhost:8080/",
          "height": 375
        },
        "id": "fb095fa9-ec97-487a-88fa-3fc7deb056bf",
        "outputId": "b72989d4-fc6d-4f3d-f7ef-da69f2295c54"
      },
      "cell_type": "code",
      "id": "fb095fa9-ec97-487a-88fa-3fc7deb056bf",
      "execution_count": 18,
      "outputs": [
        {
          "output_type": "display_data",
          "data": {
            "text/plain": [
              "<Figure size 432x288 with 2 Axes>"
            ],
            "image/png": "[encoded data removed]"
          },
          "metadata": {
            "needs_background": "light"
          }
        }
      ]
    },
    {
      "source": [
        "> If the intersection of two variables on the heatmap is blue, then there is a weak correlation or no correlation between the two variables. If the intersection is red, then there is a strong correlation between the two variables."
      ],
      "metadata": {
        "id": "0c140af3-967e-4bb7-b9c0-440de5a79ba6"
      },
      "cell_type": "markdown",
      "id": "0c140af3-967e-4bb7-b9c0-440de5a79ba6"
    },
    {
      "source": [
        "plt.figure(figsize=(6,4))\n",
        "\n",
        "# Creating Scatterplot\n",
        "sns.scatterplot(data=df, x=\"Time to Close\", y=\"Claim Amount\")\n",
        "plt.xlabel(\"Time to Close\")\n",
        "plt.ylabel(\"Claim Amount\")\n",
        "plt.title('Correlation Between Claim Amount and Time to Close', fontsize = 16)\n",
        "\n",
        "# Show\n",
        "plt.show()"
      ],
      "metadata": {
        "executionTime": 231,
        "lastSuccessfullyExecutedCode": "plt.figure(figsize=(6,4))\n\n# Creating Scatterplot\nsns.scatterplot(data=df, x=\"Time to Close\", y=\"Claim Amount\")\nplt.xlabel(\"Time to Close\")\nplt.ylabel(\"Claim Amount\")\nplt.title('Correlation Between Claim Amount and Time to Close', fontsize = 16)\n\n# Show\nplt.show()",
        "colab": {
          "base_uri": "https://localhost:8080/",
          "height": 297
        },
        "id": "dc4f683c-76b9-4abd-954a-d32d0bff1850",
        "outputId": "91c224b4-117d-4628-f56f-0fd7f53e83f2"
      },
      "cell_type": "code",
      "id": "dc4f683c-76b9-4abd-954a-d32d0bff1850",
      "execution_count": 19,
      "outputs": [
        {
          "output_type": "display_data",
          "data": {
            "text/plain": [
              "<Figure size 432x288 with 1 Axes>"
            ],
            "image/png": "[encoded data removed]"
          },
          "metadata": {
            "needs_background": "light"
          }
        }
      ]
    },
    {
      "source": [
        "> There is no correlation between the Claim Amount and Time to Close variables, as evidenced by the scatterplot showing no clear relationship between the two variables."
      ],
      "metadata": {
        "id": "d3f74089-d107-45f5-aae1-45de75eba6a4"
      },
      "cell_type": "markdown",
      "id": "d3f74089-d107-45f5-aae1-45de75eba6a4"
    },
    {
      "source": [
        "> The legal team should focus on locations with the highest individual claims and prioritize increasing the efficiency of their claim examination to reduce the time to close claims. Further analysis should be conducted to identify the cause of the higher individual claims in certain locations."
      ],
      "metadata": {
        "id": "ed296e27-23de-462c-9fdf-fcd284e8750d"
      },
      "cell_type": "markdown",
      "id": "ed296e27-23de-462c-9fdf-fcd284e8750d"
    },
    {
      "source": [
        "# Identifying locations with higher individual claims \n",
        "total_claim = df.groupby(['Location'])[['Claim Amount','Amount Paid']].agg({'Claim Amount':'mean','Amount Paid':'mean'})"
      ],
      "metadata": {
        "executionTime": 0,
        "lastSuccessfullyExecutedCode": "# Identifying locations with higher individual claims \ntotal_claim = df.groupby(['Location'])[['Claim Amount','Amount Paid']].agg({'Claim Amount':'mean','Amount Paid':'mean'})",
        "id": "2584c999-56e2-4563-b9b7-bc7104f6784b"
      },
      "cell_type": "code",
      "id": "2584c999-56e2-4563-b9b7-bc7104f6784b",
      "execution_count": 20,
      "outputs": []
    },
    {
      "source": [
        "# Identifying locations with higher overall claims \n",
        "avg_claim = df.groupby(['Location'])[['Claim Amount','Amount Paid']].agg({'Claim Amount':'sum','Amount Paid':'sum'}).reset_index()"
      ],
      "metadata": {
        "executionTime": 0,
        "lastSuccessfullyExecutedCode": "# Identifying locations with higher overall claims \navg_claim = df.groupby(['Location'])[['Claim Amount','Amount Paid']].agg({'Claim Amount':'sum','Amount Paid':'sum'}).reset_index()",
        "id": "aca401b5-2f35-4ed9-9264-b1768eac23e3"
      },
      "cell_type": "code",
      "id": "aca401b5-2f35-4ed9-9264-b1768eac23e3",
      "execution_count": 21,
      "outputs": []
    },
    {
      "source": [
        "# merging the total_claim and avg_claim dataframes, resetting the index, and then merging the dataframes on the Location column, which can help to identify locations with higher individual and overall claims\n",
        "\n",
        "claims = pd.merge(total_claim.reset_index(), avg_claim.reset_index(), left_on='Location', right_on='Location')\n",
        "claims.rename({'Claim Amount_x': 'Average Claim Amount', 'Amount Paid_x': 'Average Amount Paid', 'Claim Amount_y': 'Total Claim Amount', 'Amount Paid_y': 'Total Amount Paid'}, axis=1, inplace=True)"
      ],
      "metadata": {
        "executionTime": 0,
        "lastSuccessfullyExecutedCode": "# merging the total_claim and avg_claim dataframes, resetting the index, and then merging the dataframes on the Location column, which can help to identify locations with higher individual and overall claims\n\nclaims = pd.merge(total_claim.reset_index(), avg_claim.reset_index(), left_on='Location', right_on='Location')\nclaims.rename({'Claim Amount_x': 'Average Claim Amount', 'Amount Paid_x': 'Average Amount Paid', 'Claim Amount_y': 'Total Claim Amount', 'Amount Paid_y': 'Total Amount Paid'}, axis=1, inplace=True)",
        "id": "00a6c5f9-abb7-4e61-8440-2a805a53a952"
      },
      "cell_type": "code",
      "id": "00a6c5f9-abb7-4e61-8440-2a805a53a952",
      "execution_count": 22,
      "outputs": []
    },
    {
      "source": [
        "claims"
      ],
      "metadata": {
        "executionTime": 0,
        "lastSuccessfullyExecutedCode": "claims",
        "colab": {
          "base_uri": "https://localhost:8080/",
          "height": 175
        },
        "id": "b42e8ea9-34ff-4023-af3a-7674b89c486e",
        "outputId": "b8079bd0-c928-4e31-b0a9-3088e4ba3255"
      },
      "cell_type": "code",
      "id": "b42e8ea9-34ff-4023-af3a-7674b89c486e",
      "execution_count": 23,
      "outputs": [
        {
          "output_type": "execute_result",
          "data": {
            "text/plain": [
              "    Location  Average Claim Amount  Average Amount Paid  index  \\\n",
              "0  FORTALEZA          82977.545455         39592.800909      0   \n",
              "1      NATAL         192628.238095         88489.724762      1   \n",
              "2     RECIFE         107534.960000         46366.108000      2   \n",
              "3   SAO LUIS         116340.866667         61314.961333      3   \n",
              "\n",
              "   Total Claim Amount  Total Amount Paid  \n",
              "0             1825506          871041.62  \n",
              "1             4045193         1858284.22  \n",
              "2             2688374         1159152.70  \n",
              "3             3490226         1839448.84  "
            ],
            "text/html": [
              "\n",
              "  <div id=\"df-fba66def-71bf-423f-95ff-0a3a2e7322a6\">\n",
              "    <div class=\"colab-df-container\">\n",
              "      <div>\n",
              "<style scoped>\n",
              "    .dataframe tbody tr th:only-of-type {\n",
              "        vertical-align: middle;\n",
              "    }\n",
              "\n",
              "    .dataframe tbody tr th {\n",
              "        vertical-align: top;\n",
              "    }\n",
              "\n",
              "    .dataframe thead th {\n",
              "        text-align: right;\n",
              "    }\n",
              "</style>\n",
              "<table border=\"1\" class=\"dataframe\">\n",
              "  <thead>\n",
              "    <tr style=\"text-align: right;\">\n",
              "      <th></th>\n",
              "      <th>Location</th>\n",
              "      <th>Average Claim Amount</th>\n",
              "      <th>Average Amount Paid</th>\n",
              "      <th>index</th>\n",
              "      <th>Total Claim Amount</th>\n",
              "      <th>Total Amount Paid</th>\n",
              "    </tr>\n",
              "  </thead>\n",
              "  <tbody>\n",
              "    <tr>\n",
              "      <th>0</th>\n",
              "      <td>FORTALEZA</td>\n",
              "      <td>82977.545455</td>\n",
              "      <td>39592.800909</td>\n",
              "      <td>0</td>\n",
              "      <td>1825506</td>\n",
              "      <td>871041.62</td>\n",
              "    </tr>\n",
              "    <tr>\n",
              "      <th>1</th>\n",
              "      <td>NATAL</td>\n",
              "      <td>192628.238095</td>\n",
              "      <td>88489.724762</td>\n",
              "      <td>1</td>\n",
              "      <td>4045193</td>\n",
              "      <td>1858284.22</td>\n",
              "    </tr>\n",
              "    <tr>\n",
              "      <th>2</th>\n",
              "      <td>RECIFE</td>\n",
              "      <td>107534.960000</td>\n",
              "      <td>46366.108000</td>\n",
              "      <td>2</td>\n",
              "      <td>2688374</td>\n",
              "      <td>1159152.70</td>\n",
              "    </tr>\n",
              "    <tr>\n",
              "      <th>3</th>\n",
              "      <td>SAO LUIS</td>\n",
              "      <td>116340.866667</td>\n",
              "      <td>61314.961333</td>\n",
              "      <td>3</td>\n",
              "      <td>3490226</td>\n",
              "      <td>1839448.84</td>\n",
              "    </tr>\n",
              "  </tbody>\n",
              "</table>\n",
              "</div>\n",
              "      <button class=\"colab-df-convert\" onclick=\"convertToInteractive('df-fba66def-71bf-423f-95ff-0a3a2e7322a6')\"\n",
              "              title=\"Convert this dataframe to an interactive table.\"\n",
              "              style=\"display:none;\">\n",
              "        \n",
              "  <svg xmlns=\"http://www.w3.org/2000/svg\" height=\"24px\"viewBox=\"0 0 24 24\"\n",
              "       width=\"24px\">\n",
              "    <path d=\"M0 0h24v24H0V0z\" fill=\"none\"/>\n",
              "    <path d=\"M18.56 5.44l.94 2.06.94-2.06 2.06-.94-2.06-.94-.94-2.06-.94 2.06-2.06.94zm-11 1L8.5 8.5l.94-2.06 2.06-.94-2.06-.94L8.5 2.5l-.94 2.06-2.06.94zm10 10l.94 2.06.94-2.06 2.06-.94-2.06-.94-.94-2.06-.94 2.06-2.06.94z\"/><path d=\"M17.41 7.96l-1.37-1.37c-.4-.4-.92-.59-1.43-.59-.52 0-1.04.2-1.43.59L10.3 9.45l-7.72 7.72c-.78.78-.78 2.05 0 2.83L4 21.41c.39.39.9.59 1.41.59.51 0 1.02-.2 1.41-.59l7.78-7.78 2.81-2.81c.8-.78.8-2.07 0-2.86zM5.41 20L4 18.59l7.72-7.72 1.47 1.35L5.41 20z\"/>\n",
              "  </svg>\n",
              "      </button>\n",
              "      \n",
              "  <style>\n",
              "    .colab-df-container {\n",
              "      display:flex;\n",
              "      flex-wrap:wrap;\n",
              "      gap: 12px;\n",
              "    }\n",
              "\n",
              "    .colab-df-convert {\n",
              "      background-color: #E8F0FE;\n",
              "      border: none;\n",
              "      border-radius: 50%;\n",
              "      cursor: pointer;\n",
              "      display: none;\n",
              "      fill: #1967D2;\n",
              "      height: 32px;\n",
              "      padding: 0 0 0 0;\n",
              "      width: 32px;\n",
              "    }\n",
              "\n",
              "    .colab-df-convert:hover {\n",
              "      background-color: #E2EBFA;\n",
              "      box-shadow: 0px 1px 2px rgba(60, 64, 67, 0.3), 0px 1px 3px 1px rgba(60, 64, 67, 0.15);\n",
              "      fill: #174EA6;\n",
              "    }\n",
              "\n",
              "    [theme=dark] .colab-df-convert {\n",
              "      background-color: #3B4455;\n",
              "      fill: #D2E3FC;\n",
              "    }\n",
              "\n",
              "    [theme=dark] .colab-df-convert:hover {\n",
              "      background-color: #434B5C;\n",
              "      box-shadow: 0px 1px 3px 1px rgba(0, 0, 0, 0.15);\n",
              "      filter: drop-shadow(0px 1px 2px rgba(0, 0, 0, 0.3));\n",
              "      fill: #FFFFFF;\n",
              "    }\n",
              "  </style>\n",
              "\n",
              "      <script>\n",
              "        const buttonEl =\n",
              "          document.querySelector('#df-fba66def-71bf-423f-95ff-0a3a2e7322a6 button.colab-df-convert');\n",
              "        buttonEl.style.display =\n",
              "          google.colab.kernel.accessAllowed ? 'block' : 'none';\n",
              "\n",
              "        async function convertToInteractive(key) {\n",
              "          const element = document.querySelector('#df-fba66def-71bf-423f-95ff-0a3a2e7322a6');\n",
              "          const dataTable =\n",
              "            await google.colab.kernel.invokeFunction('convertToInteractive',\n",
              "                                                     [key], {});\n",
              "          if (!dataTable) return;\n",
              "\n",
              "          const docLinkHtml = 'Like what you see? Visit the ' +\n",
              "            '<a target=\"_blank\" href=https://colab.research.google.com/notebooks/data_table.ipynb>data table notebook</a>'\n",
              "            + ' to learn more about interactive tables.';\n",
              "          element.innerHTML = '';\n",
              "          dataTable['output_type'] = 'display_data';\n",
              "          await google.colab.output.renderOutput(dataTable, element);\n",
              "          const docLink = document.createElement('div');\n",
              "          docLink.innerHTML = docLinkHtml;\n",
              "          element.appendChild(docLink);\n",
              "        }\n",
              "      </script>\n",
              "    </div>\n",
              "  </div>\n",
              "  "
            ]
          },
          "metadata": {},
          "execution_count": 23
        }
      ]
    },
    {
      "source": [
        "# 3. How does the average time to close claims differ by location?"
      ],
      "metadata": {
        "id": "e286562d-abb4-464b-b21f-3c93a12d95e2"
      },
      "cell_type": "markdown",
      "id": "e286562d-abb4-464b-b21f-3c93a12d95e2"
    },
    {
      "source": [
        "plt.figure(figsize=(6,9))\n",
        "color = ['#2B3D58','#6F3637','#B35340','#CE8054']\n",
        "\n",
        "# Group data by 'Location' column and find mean of 'Time to Close' column\n",
        "location_mean = df.groupby('Location')['Time to Close'].mean().sort_values(ascending=True)\n",
        "\n",
        "# Create a bar plot with location names on x-axis and average time to close on y-axis\n",
        "bx = sns.barplot(x = location_mean.index, y = location_mean.values, palette=color)\n",
        "plt.xlabel(\"Location\")\n",
        "plt.ylabel(\"Time (Day)\")\n",
        "plt.title('Average Time (Day) to Close Claims Differ by Location', fontsize = 14)\n",
        "\n",
        "# Add the values of each bar on the plot \n",
        "for i, v in enumerate(location_mean.values):\n",
        "    plt.text(i-0.15, v + 10, str(round(v)), color='black', fontweight='bold')\n",
        "    \n",
        "# Show\n",
        "plt.show()"
      ],
      "metadata": {
        "executionTime": 147,
        "lastSuccessfullyExecutedCode": "plt.figure(figsize=(6,9))\ncolor = ['#2B3D58','#6F3637','#B35340','#CE8054']\n\n# Group data by 'Location' column and find mean of 'Time to Close' column\nlocation_mean = df.groupby('Location')['Time to Close'].mean().sort_values(ascending=True)\n\n# Create a bar plot with location names on x-axis and average time to close on y-axis\nbx = sns.barplot(x = location_mean.index, y = location_mean.values, palette=color)\nplt.xlabel(\"Location\")\nplt.ylabel(\"Time (Day)\")\nplt.title('Average Time (Day) to Close Claims Differ by Location', fontsize = 14)\n\n# Add the values of each bar on the plot \nfor i, v in enumerate(location_mean.values):\n    plt.text(i-0.15, v + 10, str(round(v)), color='black', fontweight='bold')\n    \n# Show\nplt.show()",
        "colab": {
          "base_uri": "https://localhost:8080/",
          "height": 568
        },
        "id": "c92ce6a6-dfa2-4128-9525-0ba27c5ad16f",
        "outputId": "cd7d2087-b3de-4070-b082-f8021838ff86"
      },
      "cell_type": "code",
      "id": "c92ce6a6-dfa2-4128-9525-0ba27c5ad16f",
      "execution_count": 24,
      "outputs": [
        {
          "output_type": "display_data",
          "data": {
            "text/plain": [
              "<Figure size 432x648 with 1 Axes>"
            ],
            "image/png": "[encoded data removed]"
          },
          "metadata": {
            "needs_background": "light"
          }
        }
      ]
    },
    {
      "source": [
        "plt.figure(figsize=(6,9))\n",
        "color = ['#2B3D58','#6F3637','#B35340','#CE8054']\n",
        "\n",
        "# Create a violin plot with location on x-axis and 'Time to Close' on y-axis\n",
        "sns.violinplot(x=\"Location\", y='Time to Close', data = df, inner=\"stick\", order = sorted(df[\"Location\"].unique()),palette=color)\n",
        "\n",
        "plt.xlabel(\"Location\")\n",
        "plt.ylabel(\"Spread Time (day)\")\n",
        "plt.title('Spread Time(day) to Close Claims Differ by Location', fontsize = 14)\n",
        "\n",
        "# Show\n",
        "plt.show()"
      ],
      "metadata": {
        "executionTime": 189,
        "lastSuccessfullyExecutedCode": "plt.figure(figsize=(6,9))\ncolor = ['#2B3D58','#6F3637','#B35340','#CE8054']\n\n# Create a violin plot with location on x-axis and 'Time to Close' on y-axis\nsns.violinplot(x=\"Location\", y='Time to Close', data = df, inner=\"stick\", order = sorted(df[\"Location\"].unique()),palette=color)\n\nplt.xlabel(\"Location\")\nplt.ylabel(\"Spread Time (day)\")\nplt.title('Spread Time(day) to Close Claims Differ by Location', fontsize = 14)\n\n# Show\nplt.show()",
        "colab": {
          "base_uri": "https://localhost:8080/",
          "height": 568
        },
        "id": "97098bd5-bafa-4a71-962a-7a425ffff509",
        "outputId": "4be8bf99-0e31-463a-b842-0e4ca9de971d"
      },
      "cell_type": "code",
      "id": "97098bd5-bafa-4a71-962a-7a425ffff509",
      "execution_count": 25,
      "outputs": [
        {
          "output_type": "display_data",
          "data": {
            "text/plain": [
              "<Figure size 432x648 with 1 Axes>"
            ],
            "image/png": "[encoded data removed]"
          },
          "metadata": {
            "needs_background": "light"
          }
        }
      ]
    },
    {
      "source": [
        "The violin plot shows that Sao Luis has a wide range and high variance of time to close claims, it may indicate that there are underlying factors that contribute to the delay in closing claims. The legal team and Vivendo fast food company should investigate further to understand the cause of this variability and take action to improve the claims process in Sao Luis in order to reduce the time taken to close claims and ensure consistency."
      ],
      "metadata": {
        "id": "68328326-d0c8-4709-865c-91cb556a0a6f"
      },
      "cell_type": "markdown",
      "id": "68328326-d0c8-4709-865c-91cb556a0a6f"
    },
    {
      "source": [
        "In summary, my analysis shows that the number of claims for food poisoning injuries differs across locations. Specifically,\n",
        "\n",
        "> Natal has the highest number of claims, followed by Sao Luis, Recife, and Fortaleza with the least number of claims. \n",
        "\n",
        "It is recommended that the legal team allocates more resources to handle the high volume of claims in **Natal and Sao Luis**. Additionally, the company should investigate the reasons for the high number of claims in Sao Luis, in order to take appropriate actions to mitigate the number of claims and improve the overall effectiveness of the legal team. \n",
        "\n",
        "In this way, the company can ensure that it is properly addressing customer complaints and concerns, and taking appropriate measures to prevent future claims."
      ],
      "metadata": {
        "id": "6bf95291-0dc1-4e19-b5f5-122e25afdb2c"
      },
      "cell_type": "markdown",
      "id": "6bf95291-0dc1-4e19-b5f5-122e25afdb2c"
    }
  ],
  "metadata": {
    "colab": {
      "provenance": []
    },
    "kernelspec": {
      "display_name": "Python 3 (ipykernel)",
      "language": "python",
      "name": "python3"
    },
    "language_info": {
      "codemirror_mode": {
        "name": "ipython",
        "version": 3
      },
      "file_extension": ".py",
      "mimetype": "text/x-python",
      "name": "python",
      "nbconvert_exporter": "python",
      "pygments_lexer": "ipython3",
      "version": "3.8.10"
    }
  },
  "nbformat": 4,
  "nbformat_minor": 5
}